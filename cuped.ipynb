{
 "cells": [
  {
   "cell_type": "code",
   "execution_count": 42,
   "metadata": {},
   "outputs": [],
   "source": [
    "import numpy as np\n",
    "import pandas as pd\n",
    "from scipy.stats import ttest_ind\n",
    "import matplotlib.pyplot as plt"
   ]
  },
  {
   "cell_type": "code",
   "execution_count": 152,
   "metadata": {},
   "outputs": [],
   "source": [
    "# CUPED article\n",
    "# https://exp-platform.com/Documents/2013-02-CUPED-ImprovingSensitivityOfControlledExperiments.pdf"
   ]
  },
  {
   "cell_type": "code",
   "execution_count": 139,
   "metadata": {},
   "outputs": [],
   "source": [
    "N_SAMPLES = 800"
   ]
  },
  {
   "cell_type": "code",
   "execution_count": 140,
   "metadata": {},
   "outputs": [
    {
     "data": {
      "text/plain": [
       "array([[1.        , 0.71977773],\n",
       "       [0.71977773, 1.        ]])"
      ]
     },
     "execution_count": 140,
     "metadata": {},
     "output_type": "execute_result"
    }
   ],
   "source": [
    "np.random.seed(10)\n",
    "\n",
    "df = pd.DataFrame({'x': np.random.uniform(-10, 10, N_SAMPLES) + 50})\n",
    "df['y'] = df['x'] * 1.5 + np.random.uniform(-15, 15, N_SAMPLES)\n",
    "\n",
    "df['binary'] = 0\n",
    "df.loc[range(int(N_SAMPLES / 2)), 'binary'] = 1\n",
    "df = df.sample(frac=1, random_state=10).reset_index(drop=True)\n",
    "\n",
    "df['period'] = 'post'\n",
    "df.loc[range(int(N_SAMPLES / 2)), 'period'] = 'pre'\n",
    "\n",
    "df.loc[(df['binary'] == 1) & (df['period'] == 'post'), 'y'] = \\\n",
    "df.loc[(df['binary'] == 1) & (df['period'] == 'post'), 'y'] * 1.05  # add treatment effect\n",
    "\n",
    "np.corrcoef(df['y'], df['x'])"
   ]
  },
  {
   "cell_type": "code",
   "execution_count": 141,
   "metadata": {},
   "outputs": [
    {
     "data": {
      "image/png": "[encoded data removed]",
      "text/plain": [
       "<Figure size 720x360 with 1 Axes>"
      ]
     },
     "metadata": {
      "needs_background": "light"
     },
     "output_type": "display_data"
    }
   ],
   "source": [
    "plt.figure(figsize=(10, 5))\n",
    "plt.hist(df[(df.binary == 1) & (df['period'] == 'post')]['y'], label='treatment')\n",
    "plt.hist(df[(df.binary == 0) & (df['period'] == 'post')]['y'], alpha=0.5, label='control')\n",
    "plt.legend()\n",
    "plt.grid(alpha=0.5);"
   ]
  },
  {
   "cell_type": "code",
   "execution_count": 142,
   "metadata": {},
   "outputs": [
    {
     "data": {
      "text/plain": [
       "Ttest_indResult(statistic=1.0490024396553965, pvalue=0.2944945854218194)"
      ]
     },
     "execution_count": 142,
     "metadata": {},
     "output_type": "execute_result"
    }
   ],
   "source": [
    "ttest_ind(df[df.binary == 1]['y'], df[df.binary == 0]['y'])"
   ]
  },
  {
   "cell_type": "code",
   "execution_count": 149,
   "metadata": {},
   "outputs": [],
   "source": [
    "thetha = np.cov(df[df['period'] == 'pre']['x'], \n",
    "                df[df['period'] == 'pre']['y'])[0, 1] / df['x'].var()\n",
    "x_mean = df[df['period'] == 'pre']['x'].mean()\n",
    "\n",
    "df['y_cuped'] = df['y'] - thetha * df['x'] + x_mean"
   ]
  },
  {
   "cell_type": "code",
   "execution_count": 150,
   "metadata": {},
   "outputs": [
    {
     "data": {
      "image/png": "[encoded data removed]",
      "text/plain": [
       "<Figure size 720x360 with 1 Axes>"
      ]
     },
     "metadata": {
      "needs_background": "light"
     },
     "output_type": "display_data"
    }
   ],
   "source": [
    "plt.figure(figsize=(10, 5))\n",
    "plt.hist(df[(df.binary == 1) & (df['period'] == 'post')]['y_cuped'], label='treatment')\n",
    "plt.hist(df[(df.binary == 0) & (df['period'] == 'post')]['y_cuped'], alpha=0.5, label='control')\n",
    "plt.legend()\n",
    "plt.grid(alpha=0.5);"
   ]
  },
  {
   "cell_type": "code",
   "execution_count": 151,
   "metadata": {},
   "outputs": [
    {
     "data": {
      "text/plain": [
       "Ttest_indResult(statistic=2.3862383616591036, pvalue=0.017253890100645607)"
      ]
     },
     "execution_count": 151,
     "metadata": {},
     "output_type": "execute_result"
    }
   ],
   "source": [
    "# WOW test has found stat sagnificant effect\n",
    "ttest_ind(df[df.binary == 1]['y_cuped'], df[df.binary == 0]['y_cuped'])"
   ]
  }
 ],
 "metadata": {
  "kernelspec": {
   "display_name": "Python 3",
   "language": "python",
   "name": "python3"
  },
  "language_info": {
   "codemirror_mode": {
    "name": "ipython",
    "version": 3
   },
   "file_extension": ".py",
   "mimetype": "text/x-python",
   "name": "python",
   "nbconvert_exporter": "python",
   "pygments_lexer": "ipython3",
   "version": "3.8.7"
  }
 },
 "nbformat": 4,
 "nbformat_minor": 4
}
