{
 "cells": [
  {
   "cell_type": "code",
   "execution_count": 9,
   "metadata": {},
   "outputs": [],
   "source": [
    "import sys\n",
    "sys.path.append('../')\n",
    "import pandas as pd\n",
    "import numpy as np\n",
    "from sklearn.metrics import accuracy_score, f1_score\n",
    "from sklearn.tree import DecisionTreeClassifier\n",
    "from adaboost import AdaBoostClassifier\n",
    "from random_forest import RandomForestClassifierCustom\n",
    "from bagging_classifier import BaggingClassifierCustom\n",
    "from gbm import GradientBoostingCustom\n",
    "\n",
    "n_est = 50\n",
    "random_state = 18\n",
    "gbm = GradientBoostingCustom(loss='log_loss', n_estimators=n_est, random_state=random_state, max_depth=6)\n",
    "bag = BaggingClassifierCustom(DecisionTreeClassifier(criterion='gini'), f1_score,\n",
    "                              n_estimators=n_est, random_state=random_state)\n",
    "ada = AdaBoostClassifier(n_estimators=n_est, random_state=random_state)\n",
    "rf = RandomForestClassifierCustom(n_estimators=n_est, random_state=random_state)\n",
    "\n",
    "\n",
    "df = pd.read_csv('./data/credit_scoring_sample.csv', sep=';').dropna()\n",
    "y = df['SeriousDlqin2yrs'].fillna(0)\n",
    "X = df.drop('SeriousDlqin2yrs', axis=1)\n",
    "\n"
   ]
  },
  {
   "cell_type": "code",
   "execution_count": 10,
   "metadata": {},
   "outputs": [
    {
     "name": "stdout",
     "output_type": "stream",
     "text": [
      "rf\n",
      "bag\n",
      "errors sum:  0.00010982976386600769\n",
      "ada\n"
     ]
    },
    {
     "name": "stderr",
     "output_type": "stream",
     "text": [
      "100%|██████████████████████████████████████████████████████████████████████████████████| 50/50 [01:28<00:00,  1.77s/it]\n"
     ]
    },
    {
     "name": "stdout",
     "output_type": "stream",
     "text": [
      "gbm\n"
     ]
    }
   ],
   "source": [
    "rf.fit(X, y)\n",
    "print('rf')\n",
    "bag.fit(X, y)\n",
    "print('bag')\n",
    "ada.fit(X, y)\n",
    "print('ada')\n",
    "gbm.fit(X, y)\n",
    "print('gbm')"
   ]
  },
  {
   "cell_type": "code",
   "execution_count": 11,
   "metadata": {},
   "outputs": [],
   "source": [
    "gbm_pred = gbm.predict(X)\n",
    "rf_pred = rf.predict(X)\n",
    "ada_pred = ada.predict(X)\n",
    "bag_pred = bag.predict(X)"
   ]
  },
  {
   "cell_type": "code",
   "execution_count": 12,
   "metadata": {},
   "outputs": [
    {
     "name": "stdout",
     "output_type": "stream",
     "text": [
      "0.3747785725497231\n",
      "0.4569297120876559\n",
      "0.9997607083034219\n",
      "0.8005947071067498\n"
     ]
    }
   ],
   "source": [
    "print(f1_score(y, gbm_pred))\n",
    "print(f1_score(y, rf_pred))\n",
    "print(f1_score(y, ada_pred))\n",
    "print(f1_score(y, bag_pred))"
   ]
  },
  {
   "cell_type": "code",
   "execution_count": null,
   "metadata": {},
   "outputs": [],
   "source": []
  }
 ],
 "metadata": {
  "kernelspec": {
   "display_name": "Python 3",
   "language": "python",
   "name": "python3"
  },
  "language_info": {
   "codemirror_mode": {
    "name": "ipython",
    "version": 3
   },
   "file_extension": ".py",
   "mimetype": "text/x-python",
   "name": "python",
   "nbconvert_exporter": "python",
   "pygments_lexer": "ipython3",
   "version": "3.7.5"
  }
 },
 "nbformat": 4,
 "nbformat_minor": 2
}
