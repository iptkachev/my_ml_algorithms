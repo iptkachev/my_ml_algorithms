{
 "cells": [
  {
   "cell_type": "code",
   "execution_count": 1,
   "metadata": {},
   "outputs": [
    {
     "name": "stderr",
     "output_type": "stream",
     "text": [
      "/home/ilya/.local/lib/python3.7/site-packages/pandas/compat/__init__.py:84: UserWarning: Could not import the lzma module. Your installed Python is incomplete. Attempting to use lzma compression will result in a RuntimeError.\n",
      "  warnings.warn(msg)\n",
      "/home/ilya/.local/lib/python3.7/site-packages/pandas/compat/__init__.py:84: UserWarning: Could not import the lzma module. Your installed Python is incomplete. Attempting to use lzma compression will result in a RuntimeError.\n",
      "  warnings.warn(msg)\n"
     ]
    }
   ],
   "source": [
    "import sys\n",
    "sys.path.append('../')\n",
    "import pandas as pd\n",
    "import numpy as np\n",
    "from sklearn.metrics import accuracy_score, f1_score\n",
    "from sklearn.tree import DecisionTreeClassifier\n",
    "from adaboost import AdaBoostClassifier\n",
    "from random_forest import RandomForestClassifierCustom\n",
    "from bagging_classifier import BaggingClassifierCustom\n",
    "from gbm import GradientBoostingCustom\n",
    "from decision_tree import DecisionTree\n",
    "\n",
    "n_est = 50\n",
    "random_state = 18\n",
    "\n",
    "df = pd.read_csv('./data/credit_scoring_sample.csv', sep=';').dropna()\n",
    "y = df['SeriousDlqin2yrs'].fillna(0)\n",
    "X = df.drop('SeriousDlqin2yrs', axis=1)"
   ]
  },
  {
   "cell_type": "code",
   "execution_count": 3,
   "metadata": {},
   "outputs": [
    {
     "name": "stderr",
     "output_type": "stream",
     "text": [
      "100%|██████████| 50/50 [00:30<00:00,  1.63it/s]\n"
     ]
    },
    {
     "name": "stdout",
     "output_type": "stream",
     "text": [
      "gbm\n",
      "0.3732719923174845\n"
     ]
    }
   ],
   "source": [
    "gbm = GradientBoostingCustom(loss='log_loss', n_estimators=n_est, random_state=random_state, max_depth=3,\n",
    "                            learning_rate=1e-03)\n",
    "gbm.fit(X, y)\n",
    "print('gbm')\n",
    "gbm_pred = gbm.predict(X)\n",
    "print(f1_score(y, gbm_pred))"
   ]
  },
  {
   "cell_type": "code",
   "execution_count": 5,
   "metadata": {},
   "outputs": [
    {
     "name": "stdout",
     "output_type": "stream",
     "text": [
      "rf\n",
      "0.4569297120876559\n"
     ]
    }
   ],
   "source": [
    "rf = RandomForestClassifierCustom(n_estimators=n_est, random_state=random_state)\n",
    "rf.fit(X, y)\n",
    "print('rf')\n",
    "rf_pred = rf.predict(X)\n",
    "print(f1_score(y, rf_pred))"
   ]
  },
  {
   "cell_type": "code",
   "execution_count": 46,
   "metadata": {},
   "outputs": [
    {
     "name": "stdout",
     "output_type": "stream",
     "text": [
      "bag\n",
      "0.8005947071067498\n"
     ]
    }
   ],
   "source": [
    "bag = BaggingClassifierCustom(DecisionTreeClassifier(criterion='gini'), f1_score,\n",
    "                              n_estimators=n_est, random_state=random_state)\n",
    "bag.fit(X, y)\n",
    "print('bag')\n",
    "bag_pred = bag.predict(X)\n",
    "print(f1_score(y, bag_pred))"
   ]
  },
  {
   "cell_type": "code",
   "execution_count": 45,
   "metadata": {},
   "outputs": [
    {
     "name": "stdout",
     "output_type": "stream",
     "text": [
      "0.9997606510292006\n"
     ]
    }
   ],
   "source": [
    "# custom decision tree\n",
    "dt = DecisionTree(max_depth=60)\n",
    "dt.fit(X, y)\n",
    "dt_pred = dt.predict(X)\n",
    "print(f1_score(y, dt_pred))"
   ]
  },
  {
   "cell_type": "code",
   "execution_count": 44,
   "metadata": {},
   "outputs": [
    {
     "name": "stdout",
     "output_type": "stream",
     "text": [
      "errors sum:  0.00010982976386600769\n",
      "ada\n",
      "0.9997607083034219\n"
     ]
    }
   ],
   "source": [
    "ada = AdaBoostClassifier(n_estimators=n_est, random_state=random_state)\n",
    "ada.fit(X, y)\n",
    "print('ada')\n",
    "ada_pred = ada.predict(X)\n",
    "print(f1_score(y, ada_pred))"
   ]
  }
 ],
 "metadata": {
  "kernelspec": {
   "display_name": "Python 3",
   "language": "python",
   "name": "python3"
  },
  "language_info": {
   "codemirror_mode": {
    "name": "ipython",
    "version": 3
   },
   "file_extension": ".py",
   "mimetype": "text/x-python",
   "name": "python",
   "nbconvert_exporter": "python",
   "pygments_lexer": "ipython3",
   "version": "3.7.4"
  }
 },
 "nbformat": 4,
 "nbformat_minor": 2
}
