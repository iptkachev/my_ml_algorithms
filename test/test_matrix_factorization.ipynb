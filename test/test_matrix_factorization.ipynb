{
 "cells": [
  {
   "cell_type": "markdown",
   "metadata": {},
   "source": [
    "### Матричные факторизации"
   ]
  },
  {
   "cell_type": "markdown",
   "metadata": {},
   "source": [
    "В данной работе вам предстоит познакомиться с практической стороной матричных разложений.\n",
    "Работа поделена на 4 задания:\n",
    "1. Вам необходимо реализовать SVD разложения используя SGD на explicit данных\n",
    "2. Вам необходимо реализовать матричное разложения используя ALS на implicit данных\n",
    "3. Вам необходимо реализовать матричное разложения используя BPR(pair-wise loss) на implicit данных\n",
    "4. Вам необходимо реализовать матричное разложения используя WARP(list-wise loss) на implicit данных\n",
    "\n",
    "Мягкий дедлайн 28 Сентября (пишутся замечания, выставляется оценка, есть возможность исправить до жесткого дедлайна)\n",
    "\n",
    "Жесткий дедлайн 5 Октября (Итоговая проверка)"
   ]
  },
  {
   "cell_type": "code",
   "execution_count": 4,
   "metadata": {},
   "outputs": [
    {
     "name": "stderr",
     "output_type": "stream",
     "text": [
      "/usr/local/lib/python3.8/site-packages/lightfm/_lightfm_fast.py:9: UserWarning: LightFM was compiled without OpenMP support. Only a single thread will be used.\n",
      "  warnings.warn(\n"
     ]
    }
   ],
   "source": [
    "import implicit\n",
    "import pandas as pd\n",
    "import numpy as np\n",
    "import scipy.sparse as sp\n",
    "\n",
    "from lightfm.datasets import fetch_movielens"
   ]
  },
  {
   "cell_type": "markdown",
   "metadata": {},
   "source": [
    "В данной работе мы будем работать с explicit датасетом movieLens, в котором представленны пары user_id movie_id и rating выставленный пользователем фильму\n",
    "\n",
    "Скачать датасет можно по ссылке https://grouplens.org/datasets/movielens/1m/"
   ]
  },
  {
   "cell_type": "code",
   "execution_count": 5,
   "metadata": {},
   "outputs": [],
   "source": [
    "ratings = pd.read_csv('ml-1m/ratings.dat', delimiter='::', header=None, \n",
    "        names=['user_id', 'movie_id', 'rating', 'timestamp'], \n",
    "        usecols=['user_id', 'movie_id', 'rating'], engine='python')"
   ]
  },
  {
   "cell_type": "code",
   "execution_count": 6,
   "metadata": {},
   "outputs": [],
   "source": [
    "movie_info = pd.read_csv('ml-1m/movies.dat', delimiter='::', header=None, \n",
    "        names=['movie_id', 'name', 'category'], engine='python')"
   ]
  },
  {
   "cell_type": "markdown",
   "metadata": {},
   "source": [
    "Explicit данные"
   ]
  },
  {
   "cell_type": "code",
   "execution_count": 7,
   "metadata": {},
   "outputs": [
    {
     "data": {
      "text/html": [
       "<div>\n",
       "<style scoped>\n",
       "    .dataframe tbody tr th:only-of-type {\n",
       "        vertical-align: middle;\n",
       "    }\n",
       "\n",
       "    .dataframe tbody tr th {\n",
       "        vertical-align: top;\n",
       "    }\n",
       "\n",
       "    .dataframe thead th {\n",
       "        text-align: right;\n",
       "    }\n",
       "</style>\n",
       "<table border=\"1\" class=\"dataframe\">\n",
       "  <thead>\n",
       "    <tr style=\"text-align: right;\">\n",
       "      <th></th>\n",
       "      <th>user_id</th>\n",
       "      <th>movie_id</th>\n",
       "      <th>rating</th>\n",
       "    </tr>\n",
       "  </thead>\n",
       "  <tbody>\n",
       "    <tr>\n",
       "      <th>0</th>\n",
       "      <td>1</td>\n",
       "      <td>1193</td>\n",
       "      <td>5</td>\n",
       "    </tr>\n",
       "    <tr>\n",
       "      <th>1</th>\n",
       "      <td>1</td>\n",
       "      <td>661</td>\n",
       "      <td>3</td>\n",
       "    </tr>\n",
       "    <tr>\n",
       "      <th>2</th>\n",
       "      <td>1</td>\n",
       "      <td>914</td>\n",
       "      <td>3</td>\n",
       "    </tr>\n",
       "    <tr>\n",
       "      <th>3</th>\n",
       "      <td>1</td>\n",
       "      <td>3408</td>\n",
       "      <td>4</td>\n",
       "    </tr>\n",
       "    <tr>\n",
       "      <th>4</th>\n",
       "      <td>1</td>\n",
       "      <td>2355</td>\n",
       "      <td>5</td>\n",
       "    </tr>\n",
       "    <tr>\n",
       "      <th>5</th>\n",
       "      <td>1</td>\n",
       "      <td>1197</td>\n",
       "      <td>3</td>\n",
       "    </tr>\n",
       "    <tr>\n",
       "      <th>6</th>\n",
       "      <td>1</td>\n",
       "      <td>1287</td>\n",
       "      <td>5</td>\n",
       "    </tr>\n",
       "    <tr>\n",
       "      <th>7</th>\n",
       "      <td>1</td>\n",
       "      <td>2804</td>\n",
       "      <td>5</td>\n",
       "    </tr>\n",
       "    <tr>\n",
       "      <th>8</th>\n",
       "      <td>1</td>\n",
       "      <td>594</td>\n",
       "      <td>4</td>\n",
       "    </tr>\n",
       "    <tr>\n",
       "      <th>9</th>\n",
       "      <td>1</td>\n",
       "      <td>919</td>\n",
       "      <td>4</td>\n",
       "    </tr>\n",
       "  </tbody>\n",
       "</table>\n",
       "</div>"
      ],
      "text/plain": [
       "   user_id  movie_id  rating\n",
       "0        1      1193       5\n",
       "1        1       661       3\n",
       "2        1       914       3\n",
       "3        1      3408       4\n",
       "4        1      2355       5\n",
       "5        1      1197       3\n",
       "6        1      1287       5\n",
       "7        1      2804       5\n",
       "8        1       594       4\n",
       "9        1       919       4"
      ]
     },
     "execution_count": 7,
     "metadata": {},
     "output_type": "execute_result"
    }
   ],
   "source": [
    "ratings.head(10)"
   ]
  },
  {
   "cell_type": "code",
   "execution_count": 34,
   "metadata": {},
   "outputs": [],
   "source": [
    "explicit_ratings = sp.csc_matrix((ratings['rating'], (ratings['user_id'], ratings['movie_id'])))"
   ]
  },
  {
   "cell_type": "code",
   "execution_count": 39,
   "metadata": {},
   "outputs": [
    {
     "data": {
      "text/plain": [
       "6040"
      ]
     },
     "execution_count": 39,
     "metadata": {},
     "output_type": "execute_result"
    }
   ],
   "source": [
    "ratings['user_id'].nunique()"
   ]
  },
  {
   "cell_type": "markdown",
   "metadata": {},
   "source": [
    "Для того, чтобы преобразовать текущий датасет в Implicit, давайте считать что позитивная оценка это оценка >=4"
   ]
  },
  {
   "cell_type": "code",
   "execution_count": 8,
   "metadata": {},
   "outputs": [],
   "source": [
    "implicit_ratings = ratings.loc[(ratings['rating'] >= 4)]"
   ]
  },
  {
   "cell_type": "code",
   "execution_count": 9,
   "metadata": {},
   "outputs": [
    {
     "data": {
      "text/html": [
       "<div>\n",
       "<style scoped>\n",
       "    .dataframe tbody tr th:only-of-type {\n",
       "        vertical-align: middle;\n",
       "    }\n",
       "\n",
       "    .dataframe tbody tr th {\n",
       "        vertical-align: top;\n",
       "    }\n",
       "\n",
       "    .dataframe thead th {\n",
       "        text-align: right;\n",
       "    }\n",
       "</style>\n",
       "<table border=\"1\" class=\"dataframe\">\n",
       "  <thead>\n",
       "    <tr style=\"text-align: right;\">\n",
       "      <th></th>\n",
       "      <th>user_id</th>\n",
       "      <th>movie_id</th>\n",
       "      <th>rating</th>\n",
       "    </tr>\n",
       "  </thead>\n",
       "  <tbody>\n",
       "    <tr>\n",
       "      <th>0</th>\n",
       "      <td>1</td>\n",
       "      <td>1193</td>\n",
       "      <td>5</td>\n",
       "    </tr>\n",
       "    <tr>\n",
       "      <th>3</th>\n",
       "      <td>1</td>\n",
       "      <td>3408</td>\n",
       "      <td>4</td>\n",
       "    </tr>\n",
       "    <tr>\n",
       "      <th>4</th>\n",
       "      <td>1</td>\n",
       "      <td>2355</td>\n",
       "      <td>5</td>\n",
       "    </tr>\n",
       "    <tr>\n",
       "      <th>6</th>\n",
       "      <td>1</td>\n",
       "      <td>1287</td>\n",
       "      <td>5</td>\n",
       "    </tr>\n",
       "    <tr>\n",
       "      <th>7</th>\n",
       "      <td>1</td>\n",
       "      <td>2804</td>\n",
       "      <td>5</td>\n",
       "    </tr>\n",
       "    <tr>\n",
       "      <th>8</th>\n",
       "      <td>1</td>\n",
       "      <td>594</td>\n",
       "      <td>4</td>\n",
       "    </tr>\n",
       "    <tr>\n",
       "      <th>9</th>\n",
       "      <td>1</td>\n",
       "      <td>919</td>\n",
       "      <td>4</td>\n",
       "    </tr>\n",
       "    <tr>\n",
       "      <th>10</th>\n",
       "      <td>1</td>\n",
       "      <td>595</td>\n",
       "      <td>5</td>\n",
       "    </tr>\n",
       "    <tr>\n",
       "      <th>11</th>\n",
       "      <td>1</td>\n",
       "      <td>938</td>\n",
       "      <td>4</td>\n",
       "    </tr>\n",
       "    <tr>\n",
       "      <th>12</th>\n",
       "      <td>1</td>\n",
       "      <td>2398</td>\n",
       "      <td>4</td>\n",
       "    </tr>\n",
       "  </tbody>\n",
       "</table>\n",
       "</div>"
      ],
      "text/plain": [
       "    user_id  movie_id  rating\n",
       "0         1      1193       5\n",
       "3         1      3408       4\n",
       "4         1      2355       5\n",
       "6         1      1287       5\n",
       "7         1      2804       5\n",
       "8         1       594       4\n",
       "9         1       919       4\n",
       "10        1       595       5\n",
       "11        1       938       4\n",
       "12        1      2398       4"
      ]
     },
     "execution_count": 9,
     "metadata": {},
     "output_type": "execute_result"
    }
   ],
   "source": [
    "implicit_ratings.head(10)"
   ]
  },
  {
   "cell_type": "markdown",
   "metadata": {},
   "source": [
    "Удобнее работать с sparse матричками, давайте преобразуем DataFrame в CSR матрицы"
   ]
  },
  {
   "cell_type": "code",
   "execution_count": 10,
   "metadata": {},
   "outputs": [],
   "source": [
    "users = implicit_ratings[\"user_id\"]\n",
    "movies = implicit_ratings[\"movie_id\"]\n",
    "user_item = sp.coo_matrix((np.ones_like(users), (users, movies)))\n",
    "user_item_t_csr = user_item.T.tocsr()\n",
    "user_item_csr = user_item.tocsr()"
   ]
  },
  {
   "cell_type": "markdown",
   "metadata": {},
   "source": [
    "В качестве примера воспользуемся ALS разложением из библиотеки implicit\n",
    "\n",
    "Зададим размерность латентного пространства равным 64, это же определяет размер user/item эмбедингов"
   ]
  },
  {
   "cell_type": "code",
   "execution_count": 11,
   "metadata": {},
   "outputs": [
    {
     "name": "stderr",
     "output_type": "stream",
     "text": [
      "WARNING:root:OpenBLAS detected. Its highly recommend to set the environment variable 'export OPENBLAS_NUM_THREADS=1' to disable its internal multithreading\n"
     ]
    }
   ],
   "source": [
    "model = implicit.als.AlternatingLeastSquares(factors=64, iterations=100, calculate_training_loss=True)"
   ]
  },
  {
   "cell_type": "markdown",
   "metadata": {},
   "source": [
    "В качестве loss здесь всеми любимый RMSE"
   ]
  },
  {
   "cell_type": "code",
   "execution_count": 12,
   "metadata": {},
   "outputs": [
    {
     "data": {
      "application/vnd.jupyter.widget-view+json": {
       "model_id": "1248b704a5bb4b2fa4a1dea93717d41b",
       "version_major": 2,
       "version_minor": 0
      },
      "text/plain": [
       "HBox(children=(HTML(value=''), FloatProgress(value=0.0), HTML(value='')))"
      ]
     },
     "metadata": {},
     "output_type": "display_data"
    },
    {
     "name": "stdout",
     "output_type": "stream",
     "text": [
      "\n"
     ]
    }
   ],
   "source": [
    "model.fit(user_item_t_csr)"
   ]
  },
  {
   "cell_type": "markdown",
   "metadata": {},
   "source": [
    "Построим похожие фильмы по 1 movie_id = Истории игрушек"
   ]
  },
  {
   "cell_type": "code",
   "execution_count": 13,
   "metadata": {},
   "outputs": [
    {
     "data": {
      "text/html": [
       "<div>\n",
       "<style scoped>\n",
       "    .dataframe tbody tr th:only-of-type {\n",
       "        vertical-align: middle;\n",
       "    }\n",
       "\n",
       "    .dataframe tbody tr th {\n",
       "        vertical-align: top;\n",
       "    }\n",
       "\n",
       "    .dataframe thead th {\n",
       "        text-align: right;\n",
       "    }\n",
       "</style>\n",
       "<table border=\"1\" class=\"dataframe\">\n",
       "  <thead>\n",
       "    <tr style=\"text-align: right;\">\n",
       "      <th></th>\n",
       "      <th>movie_id</th>\n",
       "      <th>name</th>\n",
       "      <th>category</th>\n",
       "    </tr>\n",
       "  </thead>\n",
       "  <tbody>\n",
       "    <tr>\n",
       "      <th>0</th>\n",
       "      <td>1</td>\n",
       "      <td>Toy Story (1995)</td>\n",
       "      <td>Animation|Children's|Comedy</td>\n",
       "    </tr>\n",
       "    <tr>\n",
       "      <th>1</th>\n",
       "      <td>2</td>\n",
       "      <td>Jumanji (1995)</td>\n",
       "      <td>Adventure|Children's|Fantasy</td>\n",
       "    </tr>\n",
       "    <tr>\n",
       "      <th>2</th>\n",
       "      <td>3</td>\n",
       "      <td>Grumpier Old Men (1995)</td>\n",
       "      <td>Comedy|Romance</td>\n",
       "    </tr>\n",
       "    <tr>\n",
       "      <th>3</th>\n",
       "      <td>4</td>\n",
       "      <td>Waiting to Exhale (1995)</td>\n",
       "      <td>Comedy|Drama</td>\n",
       "    </tr>\n",
       "    <tr>\n",
       "      <th>4</th>\n",
       "      <td>5</td>\n",
       "      <td>Father of the Bride Part II (1995)</td>\n",
       "      <td>Comedy</td>\n",
       "    </tr>\n",
       "  </tbody>\n",
       "</table>\n",
       "</div>"
      ],
      "text/plain": [
       "   movie_id                                name                      category\n",
       "0         1                    Toy Story (1995)   Animation|Children's|Comedy\n",
       "1         2                      Jumanji (1995)  Adventure|Children's|Fantasy\n",
       "2         3             Grumpier Old Men (1995)                Comedy|Romance\n",
       "3         4            Waiting to Exhale (1995)                  Comedy|Drama\n",
       "4         5  Father of the Bride Part II (1995)                        Comedy"
      ]
     },
     "execution_count": 13,
     "metadata": {},
     "output_type": "execute_result"
    }
   ],
   "source": [
    "movie_info.head(5)"
   ]
  },
  {
   "cell_type": "code",
   "execution_count": 14,
   "metadata": {},
   "outputs": [],
   "source": [
    "get_similars = lambda item_id, model : [movie_info[movie_info[\"movie_id\"] == x[0]][\"name\"].to_string() \n",
    "                                        for x in model.similar_items(item_id)]"
   ]
  },
  {
   "cell_type": "markdown",
   "metadata": {},
   "source": [
    "Как мы видим, симилары действительно оказались симиларами.\n",
    "\n",
    "Качество симиларов часто является хорошим способом проверить качество алгоритмов.\n",
    "\n",
    "P.S. Если хочется поглубже разобраться в том как разные алгоритмы формируют разные латентные пространства, рекомендую загружать полученные вектора в tensorBoard и смотреть на сформированное пространство"
   ]
  },
  {
   "cell_type": "code",
   "execution_count": 15,
   "metadata": {},
   "outputs": [
    {
     "data": {
      "text/plain": [
       "['0    Toy Story (1995)',\n",
       " '3045    Toy Story 2 (1999)',\n",
       " \"2286    Bug's Life, A (1998)\",\n",
       " '33    Babe (1995)',\n",
       " '584    Aladdin (1992)',\n",
       " '2315    Babe: Pig in the City (1998)',\n",
       " '1526    Hercules (1997)',\n",
       " '360    Lion King, The (1994)',\n",
       " '3817    Went to Coney Island on a Mission From God... ...',\n",
       " '1838    Mulan (1998)']"
      ]
     },
     "execution_count": 15,
     "metadata": {},
     "output_type": "execute_result"
    }
   ],
   "source": [
    "get_similars(1, model)"
   ]
  },
  {
   "cell_type": "markdown",
   "metadata": {},
   "source": [
    "Давайте теперь построим рекомендации для юзеров\n",
    "\n",
    "Как мы видим юзеру нравится фантастика, значит и в рекомендациях ожидаем увидеть фантастику"
   ]
  },
  {
   "cell_type": "code",
   "execution_count": 16,
   "metadata": {},
   "outputs": [],
   "source": [
    "get_user_history = lambda user_id, implicit_ratings : [movie_info[movie_info[\"movie_id\"] == x][\"name\"].to_string() \n",
    "                                            for x in implicit_ratings[implicit_ratings[\"user_id\"] == user_id][\"movie_id\"]]"
   ]
  },
  {
   "cell_type": "code",
   "execution_count": 17,
   "metadata": {},
   "outputs": [
    {
     "data": {
      "text/plain": [
       "['3399    Hustler, The (1961)',\n",
       " '2882    Fistful of Dollars, A (1964)',\n",
       " '1196    Alien (1979)',\n",
       " '1023    Die Hard (1988)',\n",
       " '257    Star Wars: Episode IV - A New Hope (1977)',\n",
       " '1959    Saving Private Ryan (1998)',\n",
       " '476    Jurassic Park (1993)',\n",
       " '1180    Raiders of the Lost Ark (1981)',\n",
       " '1885    Rocky (1976)',\n",
       " '1081    E.T. the Extra-Terrestrial (1982)',\n",
       " '3349    Thelma & Louise (1991)',\n",
       " '3633    Mad Max (1979)',\n",
       " '2297    King Kong (1933)',\n",
       " '1366    Jaws (1975)',\n",
       " '1183    Good, The Bad and The Ugly, The (1966)',\n",
       " '2623    Run Lola Run (Lola rennt) (1998)',\n",
       " '2878    Goldfinger (1964)',\n",
       " '1220    Terminator, The (1984)']"
      ]
     },
     "execution_count": 17,
     "metadata": {},
     "output_type": "execute_result"
    }
   ],
   "source": [
    "get_user_history(4, implicit_ratings)"
   ]
  },
  {
   "cell_type": "markdown",
   "metadata": {},
   "source": [
    "Получилось! \n",
    "\n",
    "Мы действительно порекомендовали пользователю фантастику и боевики, более того встречаются продолжения тех фильмов, которые он высоко оценил"
   ]
  },
  {
   "cell_type": "code",
   "execution_count": 18,
   "metadata": {},
   "outputs": [],
   "source": [
    "get_recommendations = lambda user_id, model : [movie_info[movie_info[\"movie_id\"] == x[0]][\"name\"].to_string() \n",
    "                                               for x in model.recommend(user_id, user_item_csr)]"
   ]
  },
  {
   "cell_type": "code",
   "execution_count": 19,
   "metadata": {},
   "outputs": [
    {
     "data": {
      "text/plain": [
       "['585    Terminator 2: Judgment Day (1991)',\n",
       " '1284    Butch Cassidy and the Sundance Kid (1969)',\n",
       " '1271    Indiana Jones and the Last Crusade (1989)',\n",
       " '1178    Star Wars: Episode V - The Empire Strikes Back...',\n",
       " '2502    Matrix, The (1999)',\n",
       " '1182    Aliens (1986)',\n",
       " '1884    French Connection, The (1971)',\n",
       " '847    Godfather, The (1972)',\n",
       " '3402    Close Encounters of the Third Kind (1977)',\n",
       " '3458    Predator (1987)']"
      ]
     },
     "execution_count": 19,
     "metadata": {},
     "output_type": "execute_result"
    }
   ],
   "source": [
    "get_recommendations(4, model)"
   ]
  },
  {
   "cell_type": "markdown",
   "metadata": {},
   "source": [
    "Теперь ваша очередь реализовать самые популярные алгоритмы матричных разложений\n",
    "\n",
    "Что будет оцениваться:\n",
    "1. Корректность алгоритма\n",
    "2. Качество получившихся симиларов\n",
    "3. Качество итоговых рекомендаций для юзера"
   ]
  },
  {
   "cell_type": "markdown",
   "metadata": {},
   "source": [
    "### Задание 1. Не использую готовые решения, реализовать SVD разложение используя SGD на explicit данных"
   ]
  },
  {
   "cell_type": "code",
   "execution_count": 508,
   "metadata": {},
   "outputs": [],
   "source": [
    "from __future__ import annotations\n",
    "import numpy as np\n",
    "from abc import ABC, abstractmethod\n",
    "from typing import List\n",
    "from scipy.sparse import csr_matrix\n",
    "\n",
    "\n",
    "class MatrixFactorizationBase(ABC):\n",
    "    def __init__(self, factors=128, iterations=100, l2_regularization=5e-2, compute_loss=False):\n",
    "        self.factors = factors\n",
    "        self.iterations = iterations\n",
    "        self.l2_regularization = l2_regularization\n",
    "\n",
    "        self.item_factors: np.array = None\n",
    "        self.user_factors: np.array = None\n",
    "\n",
    "        self.item_norms: np.array = None\n",
    "        self.user_norms: np.array = None\n",
    "\n",
    "        self._compute_loss = compute_loss\n",
    "        self._loss_by_iterations = []\n",
    "\n",
    "    @abstractmethod\n",
    "    def fit(self, user_items: csr_matrix) -> MatrixFactorizationBase:\n",
    "        pass\n",
    "\n",
    "    def _init_matrices(self, n_items, n_users):\n",
    "        self.item_factors = np.random.uniform(0, 1 / np.sqrt(self.factors), (n_items, self.factors))\n",
    "        self.user_factors = np.random.uniform(0, 1 / np.sqrt(self.factors), (n_users, self.factors))\n",
    "\n",
    "    def _compute_factors_norms(self):\n",
    "        self.item_norms = np.linalg.norm(self.item_factors, axis=1)\n",
    "        self.user_norms = np.linalg.norm(self.user_factors, axis=1)\n",
    "\n",
    "    def _compute_l2_norm(self, vector):\n",
    "        return np.power(np.linalg.norm(vector), 2)\n",
    "\n",
    "    def similar_items(self, item_id: int, top_k: int = 10):\n",
    "        \"\"\"\n",
    "        By cosine similarity\n",
    "        :param top_k:\n",
    "        :param item_id:\n",
    "        :return:\n",
    "        \"\"\"\n",
    "        item_vector = self.item_factors[item_id]\n",
    "        item_norm = self.item_norms[item_id]\n",
    "        cos_similar = self.item_factors.dot(item_vector) / (self.item_norms * item_norm + 1e-8)\n",
    "        top_k_similar = np.argsort(cos_similar)[-top_k:][::-1]\n",
    "\n",
    "        return list(zip(top_k_similar.tolist(), cos_similar.take(top_k_similar).tolist()))\n",
    "\n",
    "    def recommend(self, user_id: int, user_items: List[int] = None, top_k: int = 10):\n",
    "        \"\"\"\n",
    "        By top dot product with item_factors\n",
    "        :param top_k:\n",
    "        :param user_id:\n",
    "        :param user_items: items to exclude\n",
    "        :return:\n",
    "        \"\"\"\n",
    "        if not user_items:\n",
    "            user_items = []\n",
    "\n",
    "        user_vector = self.user_factors[user_id]\n",
    "        user_products = self.item_factors.dot(user_vector)\n",
    "        top_k_recommend = np.delete(np.argsort(user_products), user_items, axis=0)[-top_k:][::-1]\n",
    "\n",
    "        return list(zip(top_k_recommend.tolist(), user_products.take(top_k_recommend).tolist()))\n"
   ]
  },
  {
   "cell_type": "code",
   "execution_count": 512,
   "metadata": {},
   "outputs": [],
   "source": [
    "import numpy as np\n",
    "from tqdm import tqdm\n",
    "# from recommender_systems.matrix_factorization_base import MatrixFactorizationBase\n",
    "\n",
    "\n",
    "class SVD(MatrixFactorizationBase):\n",
    "    \"\"\"\n",
    "    By https://en.wikipedia.org/wiki/Matrix_factorization_(recommender_systems)\n",
    "    \"\"\"\n",
    "    def __init__(self, factors: int = 128, iterations: int = 100, learning_rate: float = 5e-5,\n",
    "                 l2_regularization: float = 1e-3, compute_loss=False):\n",
    "        super().__init__(factors, iterations, l2_regularization, compute_loss)\n",
    "        self.learning_rate = learning_rate\n",
    "\n",
    "        self._user_bias = None\n",
    "        self._item_bias = None\n",
    "\n",
    "    def fit(self, user_items):\n",
    "        n_users, n_items = user_items.shape\n",
    "        self._init_matrices(n_items, n_users)\n",
    "\n",
    "        for _ in tqdm(range(self.iterations), position=0, leave=True):\n",
    "            residual = self._residual(user_items)\n",
    "            self.user_factors -= self.learning_rate * self._grad_user(residual)\n",
    "            self._user_bias -= self.learning_rate * self._grad_user_bias(residual)\n",
    "            self.item_factors -= self.learning_rate * self._grad_item(residual)\n",
    "            self._item_bias -= self.learning_rate * self._grad_item_bias(residual)\n",
    "\n",
    "            if self._compute_loss:\n",
    "                self._loss_by_iterations.append(self._loss(residual))\n",
    "                print(self._loss_by_iterations)\n",
    "\n",
    "        self._compute_factors_norms()\n",
    "\n",
    "        return self\n",
    "\n",
    "    def _init_matrices(self, n_items, n_users):\n",
    "        super(SVD, self)._init_matrices(n_items, n_users)\n",
    "\n",
    "        self._item_bias = np.random.uniform(0, 1 / np.sqrt(self.factors), (n_items, 1))\n",
    "        self._user_bias = np.random.uniform(0, 1 / np.sqrt(self.factors), (n_users, 1))\n",
    "\n",
    "    def _residual(self, user_items):\n",
    "        return (\n",
    "            self.user_factors @ self.item_factors.T + self._user_bias + self._item_bias.T - user_items\n",
    "        )\n",
    "\n",
    "    def _loss(self, residual):\n",
    "        return (\n",
    "            np.power(residual, 2).sum() +\n",
    "            self.l2_regularization * (\n",
    "                self._compute_l2_norm(self._user_bias) + self._compute_l2_norm(self._item_bias) +\n",
    "                self._compute_l2_norm(self.user_factors) + self._compute_l2_norm(self.item_factors)\n",
    "            )\n",
    "        )\n",
    "\n",
    "    def _grad_user(self, residual):\n",
    "        return 2 * (residual @ self.item_factors + self.l2_regularization * self.user_factors)\n",
    "\n",
    "    def _grad_user_bias(self, residual):\n",
    "        return 2 * (residual.mean(axis=1) + self.l2_regularization * self._user_bias)\n",
    "\n",
    "    def _grad_item(self, residual):\n",
    "        return 2 * (residual.T @ self.user_factors + self.l2_regularization * self.item_factors)\n",
    "\n",
    "    def _grad_item_bias(self, residual):\n",
    "        return 2 * (residual.T.mean(axis=1) + self.l2_regularization * self._item_bias)\n"
   ]
  },
  {
   "cell_type": "code",
   "execution_count": 515,
   "metadata": {
    "scrolled": true
   },
   "outputs": [
    {
     "name": "stderr",
     "output_type": "stream",
     "text": [
      "  1%|          | 1/100 [00:05<09:29,  5.75s/it]"
     ]
    },
    {
     "name": "stdout",
     "output_type": "stream",
     "text": [
      "[14428659.222999433]\n"
     ]
    },
    {
     "name": "stderr",
     "output_type": "stream",
     "text": [
      "\r",
      "  2%|▏         | 2/100 [00:10<09:05,  5.56s/it]"
     ]
    },
    {
     "name": "stdout",
     "output_type": "stream",
     "text": [
      "[14428659.222999433, 12976263.509254532]\n"
     ]
    },
    {
     "name": "stderr",
     "output_type": "stream",
     "text": [
      "\r",
      "  3%|▎         | 3/100 [00:15<08:33,  5.29s/it]"
     ]
    },
    {
     "name": "stdout",
     "output_type": "stream",
     "text": [
      "[14428659.222999433, 12976263.509254532, 12150205.369988004]\n"
     ]
    },
    {
     "name": "stderr",
     "output_type": "stream",
     "text": [
      "\r",
      "  4%|▍         | 4/100 [00:21<08:45,  5.47s/it]"
     ]
    },
    {
     "name": "stdout",
     "output_type": "stream",
     "text": [
      "[14428659.222999433, 12976263.509254532, 12150205.369988004, 11487554.301907709]\n"
     ]
    },
    {
     "name": "stderr",
     "output_type": "stream",
     "text": [
      "\r",
      "  5%|▌         | 5/100 [00:26<08:14,  5.20s/it]"
     ]
    },
    {
     "name": "stdout",
     "output_type": "stream",
     "text": [
      "[14428659.222999433, 12976263.509254532, 12150205.369988004, 11487554.301907709, 11030499.753017677]\n"
     ]
    },
    {
     "name": "stderr",
     "output_type": "stream",
     "text": [
      "\r",
      "  6%|▌         | 6/100 [00:27<06:29,  4.14s/it]"
     ]
    },
    {
     "name": "stdout",
     "output_type": "stream",
     "text": [
      "[14428659.222999433, 12976263.509254532, 12150205.369988004, 11487554.301907709, 11030499.753017677, 10792925.485135127]\n"
     ]
    },
    {
     "name": "stderr",
     "output_type": "stream",
     "text": [
      "\r",
      "  7%|▋         | 7/100 [00:29<05:15,  3.40s/it]"
     ]
    },
    {
     "name": "stdout",
     "output_type": "stream",
     "text": [
      "[14428659.222999433, 12976263.509254532, 12150205.369988004, 11487554.301907709, 11030499.753017677, 10792925.485135127, 10694345.22396194]\n"
     ]
    },
    {
     "name": "stderr",
     "output_type": "stream",
     "text": [
      "\r",
      "  8%|▊         | 8/100 [00:30<04:24,  2.87s/it]"
     ]
    },
    {
     "name": "stdout",
     "output_type": "stream",
     "text": [
      "[14428659.222999433, 12976263.509254532, 12150205.369988004, 11487554.301907709, 11030499.753017677, 10792925.485135127, 10694345.22396194, 10656270.827711038]\n"
     ]
    },
    {
     "name": "stderr",
     "output_type": "stream",
     "text": [
      "\r",
      "  9%|▉         | 9/100 [00:32<03:46,  2.49s/it]"
     ]
    },
    {
     "name": "stdout",
     "output_type": "stream",
     "text": [
      "[14428659.222999433, 12976263.509254532, 12150205.369988004, 11487554.301907709, 11030499.753017677, 10792925.485135127, 10694345.22396194, 10656270.827711038, 10640861.244591223]\n"
     ]
    },
    {
     "name": "stderr",
     "output_type": "stream",
     "text": [
      "\r",
      " 10%|█         | 10/100 [00:34<03:19,  2.22s/it]"
     ]
    },
    {
     "name": "stdout",
     "output_type": "stream",
     "text": [
      "[14428659.222999433, 12976263.509254532, 12150205.369988004, 11487554.301907709, 11030499.753017677, 10792925.485135127, 10694345.22396194, 10656270.827711038, 10640861.244591223, 10633920.266455343]\n"
     ]
    },
    {
     "name": "stderr",
     "output_type": "stream",
     "text": [
      "\r",
      " 11%|█         | 11/100 [00:35<02:59,  2.02s/it]"
     ]
    },
    {
     "name": "stdout",
     "output_type": "stream",
     "text": [
      "[14428659.222999433, 12976263.509254532, 12150205.369988004, 11487554.301907709, 11030499.753017677, 10792925.485135127, 10694345.22396194, 10656270.827711038, 10640861.244591223, 10633920.266455343, 10630222.364395935]\n"
     ]
    },
    {
     "name": "stderr",
     "output_type": "stream",
     "text": [
      "\r",
      " 12%|█▏        | 12/100 [00:37<02:47,  1.90s/it]"
     ]
    },
    {
     "name": "stdout",
     "output_type": "stream",
     "text": [
      "[14428659.222999433, 12976263.509254532, 12150205.369988004, 11487554.301907709, 11030499.753017677, 10792925.485135127, 10694345.22396194, 10656270.827711038, 10640861.244591223, 10633920.266455343, 10630222.364395935, 10627741.810275564]\n"
     ]
    },
    {
     "name": "stderr",
     "output_type": "stream",
     "text": [
      "\r",
      " 13%|█▎        | 13/100 [00:38<02:36,  1.80s/it]"
     ]
    },
    {
     "name": "stdout",
     "output_type": "stream",
     "text": [
      "[14428659.222999433, 12976263.509254532, 12150205.369988004, 11487554.301907709, 11030499.753017677, 10792925.485135127, 10694345.22396194, 10656270.827711038, 10640861.244591223, 10633920.266455343, 10630222.364395935, 10627741.810275564, 10625641.708421774]\n"
     ]
    },
    {
     "name": "stderr",
     "output_type": "stream",
     "text": [
      "\r",
      " 14%|█▍        | 14/100 [00:40<02:36,  1.82s/it]"
     ]
    },
    {
     "name": "stdout",
     "output_type": "stream",
     "text": [
      "[14428659.222999433, 12976263.509254532, 12150205.369988004, 11487554.301907709, 11030499.753017677, 10792925.485135127, 10694345.22396194, 10656270.827711038, 10640861.244591223, 10633920.266455343, 10630222.364395935, 10627741.810275564, 10625641.708421774, 10623543.007283304]\n"
     ]
    },
    {
     "name": "stderr",
     "output_type": "stream",
     "text": [
      "\r",
      " 15%|█▌        | 15/100 [00:42<02:27,  1.73s/it]"
     ]
    },
    {
     "name": "stdout",
     "output_type": "stream",
     "text": [
      "[14428659.222999433, 12976263.509254532, 12150205.369988004, 11487554.301907709, 11030499.753017677, 10792925.485135127, 10694345.22396194, 10656270.827711038, 10640861.244591223, 10633920.266455343, 10630222.364395935, 10627741.810275564, 10625641.708421774, 10623543.007283304, 10621243.018771091]\n"
     ]
    },
    {
     "name": "stderr",
     "output_type": "stream",
     "text": [
      "\r",
      " 16%|█▌        | 16/100 [00:43<02:23,  1.71s/it]"
     ]
    },
    {
     "name": "stdout",
     "output_type": "stream",
     "text": [
      "[14428659.222999433, 12976263.509254532, 12150205.369988004, 11487554.301907709, 11030499.753017677, 10792925.485135127, 10694345.22396194, 10656270.827711038, 10640861.244591223, 10633920.266455343, 10630222.364395935, 10627741.810275564, 10625641.708421774, 10623543.007283304, 10621243.018771091, 10618601.15532016]\n"
     ]
    },
    {
     "name": "stderr",
     "output_type": "stream",
     "text": [
      "\r",
      " 17%|█▋        | 17/100 [00:45<02:23,  1.73s/it]"
     ]
    },
    {
     "name": "stdout",
     "output_type": "stream",
     "text": [
      "[14428659.222999433, 12976263.509254532, 12150205.369988004, 11487554.301907709, 11030499.753017677, 10792925.485135127, 10694345.22396194, 10656270.827711038, 10640861.244591223, 10633920.266455343, 10630222.364395935, 10627741.810275564, 10625641.708421774, 10623543.007283304, 10621243.018771091, 10618601.15532016, 10615489.227290802]\n"
     ]
    },
    {
     "name": "stderr",
     "output_type": "stream",
     "text": [
      "\r",
      " 18%|█▊        | 18/100 [00:47<02:20,  1.72s/it]"
     ]
    },
    {
     "name": "stdout",
     "output_type": "stream",
     "text": [
      "[14428659.222999433, 12976263.509254532, 12150205.369988004, 11487554.301907709, 11030499.753017677, 10792925.485135127, 10694345.22396194, 10656270.827711038, 10640861.244591223, 10633920.266455343, 10630222.364395935, 10627741.810275564, 10625641.708421774, 10623543.007283304, 10621243.018771091, 10618601.15532016, 10615489.227290802, 10611766.976293406]\n"
     ]
    },
    {
     "name": "stderr",
     "output_type": "stream",
     "text": [
      "\r",
      " 19%|█▉        | 19/100 [00:48<02:14,  1.66s/it]"
     ]
    },
    {
     "name": "stdout",
     "output_type": "stream",
     "text": [
      "[14428659.222999433, 12976263.509254532, 12150205.369988004, 11487554.301907709, 11030499.753017677, 10792925.485135127, 10694345.22396194, 10656270.827711038, 10640861.244591223, 10633920.266455343, 10630222.364395935, 10627741.810275564, 10625641.708421774, 10623543.007283304, 10621243.018771091, 10618601.15532016, 10615489.227290802, 10611766.976293406, 10607267.177520962]\n"
     ]
    },
    {
     "name": "stderr",
     "output_type": "stream",
     "text": [
      "\r",
      " 20%|██        | 20/100 [00:50<02:09,  1.61s/it]"
     ]
    },
    {
     "name": "stdout",
     "output_type": "stream",
     "text": [
      "[14428659.222999433, 12976263.509254532, 12150205.369988004, 11487554.301907709, 11030499.753017677, 10792925.485135127, 10694345.22396194, 10656270.827711038, 10640861.244591223, 10633920.266455343, 10630222.364395935, 10627741.810275564, 10625641.708421774, 10623543.007283304, 10621243.018771091, 10618601.15532016, 10615489.227290802, 10611766.976293406, 10607267.177520962, 10601783.8415404]\n"
     ]
    },
    {
     "name": "stderr",
     "output_type": "stream",
     "text": [
      "\r",
      " 21%|██        | 21/100 [00:52<02:06,  1.60s/it]"
     ]
    },
    {
     "name": "stdout",
     "output_type": "stream",
     "text": [
      "[14428659.222999433, 12976263.509254532, 12150205.369988004, 11487554.301907709, 11030499.753017677, 10792925.485135127, 10694345.22396194, 10656270.827711038, 10640861.244591223, 10633920.266455343, 10630222.364395935, 10627741.810275564, 10625641.708421774, 10623543.007283304, 10621243.018771091, 10618601.15532016, 10615489.227290802, 10611766.976293406, 10607267.177520962, 10601783.8415404, 10595060.76660502]\n"
     ]
    },
    {
     "name": "stderr",
     "output_type": "stream",
     "text": [
      "\r",
      " 22%|██▏       | 22/100 [00:53<02:03,  1.58s/it]"
     ]
    },
    {
     "name": "stdout",
     "output_type": "stream",
     "text": [
      "[14428659.222999433, 12976263.509254532, 12150205.369988004, 11487554.301907709, 11030499.753017677, 10792925.485135127, 10694345.22396194, 10656270.827711038, 10640861.244591223, 10633920.266455343, 10630222.364395935, 10627741.810275564, 10625641.708421774, 10623543.007283304, 10621243.018771091, 10618601.15532016, 10615489.227290802, 10611766.976293406, 10607267.177520962, 10601783.8415404, 10595060.76660502, 10586779.320459414]\n"
     ]
    },
    {
     "name": "stderr",
     "output_type": "stream",
     "text": [
      "\r",
      " 23%|██▎       | 23/100 [00:55<02:01,  1.58s/it]"
     ]
    },
    {
     "name": "stdout",
     "output_type": "stream",
     "text": [
      "[14428659.222999433, 12976263.509254532, 12150205.369988004, 11487554.301907709, 11030499.753017677, 10792925.485135127, 10694345.22396194, 10656270.827711038, 10640861.244591223, 10633920.266455343, 10630222.364395935, 10627741.810275564, 10625641.708421774, 10623543.007283304, 10621243.018771091, 10618601.15532016, 10615489.227290802, 10611766.976293406, 10607267.177520962, 10601783.8415404, 10595060.76660502, 10586779.320459414, 10576545.213085862]\n"
     ]
    },
    {
     "name": "stderr",
     "output_type": "stream",
     "text": [
      "\r",
      " 24%|██▍       | 24/100 [00:56<01:59,  1.57s/it]"
     ]
    },
    {
     "name": "stdout",
     "output_type": "stream",
     "text": [
      "[14428659.222999433, 12976263.509254532, 12150205.369988004, 11487554.301907709, 11030499.753017677, 10792925.485135127, 10694345.22396194, 10656270.827711038, 10640861.244591223, 10633920.266455343, 10630222.364395935, 10627741.810275564, 10625641.708421774, 10623543.007283304, 10621243.018771091, 10618601.15532016, 10615489.227290802, 10611766.976293406, 10607267.177520962, 10601783.8415404, 10595060.76660502, 10586779.320459414, 10576545.213085862, 10563874.749348648]\n"
     ]
    },
    {
     "name": "stderr",
     "output_type": "stream",
     "text": [
      "\r",
      " 25%|██▌       | 25/100 [00:58<01:58,  1.58s/it]"
     ]
    },
    {
     "name": "stdout",
     "output_type": "stream",
     "text": [
      "[14428659.222999433, 12976263.509254532, 12150205.369988004, 11487554.301907709, 11030499.753017677, 10792925.485135127, 10694345.22396194, 10656270.827711038, 10640861.244591223, 10633920.266455343, 10630222.364395935, 10627741.810275564, 10625641.708421774, 10623543.007283304, 10621243.018771091, 10618601.15532016, 10615489.227290802, 10611766.976293406, 10607267.177520962, 10601783.8415404, 10595060.76660502, 10586779.320459414, 10576545.213085862, 10563874.749348648, 10548181.934942912]\n"
     ]
    },
    {
     "name": "stderr",
     "output_type": "stream",
     "text": [
      "\r",
      " 26%|██▌       | 26/100 [00:59<01:57,  1.59s/it]"
     ]
    },
    {
     "name": "stdout",
     "output_type": "stream",
     "text": [
      "[14428659.222999433, 12976263.509254532, 12150205.369988004, 11487554.301907709, 11030499.753017677, 10792925.485135127, 10694345.22396194, 10656270.827711038, 10640861.244591223, 10633920.266455343, 10630222.364395935, 10627741.810275564, 10625641.708421774, 10623543.007283304, 10621243.018771091, 10618601.15532016, 10615489.227290802, 10611766.976293406, 10607267.177520962, 10601783.8415404, 10595060.76660502, 10586779.320459414, 10576545.213085862, 10563874.749348648, 10548181.934942912, 10528769.057594853]\n"
     ]
    },
    {
     "name": "stderr",
     "output_type": "stream",
     "text": [
      "\r",
      " 27%|██▋       | 27/100 [01:01<01:55,  1.58s/it]"
     ]
    },
    {
     "name": "stdout",
     "output_type": "stream",
     "text": [
      "[14428659.222999433, 12976263.509254532, 12150205.369988004, 11487554.301907709, 11030499.753017677, 10792925.485135127, 10694345.22396194, 10656270.827711038, 10640861.244591223, 10633920.266455343, 10630222.364395935, 10627741.810275564, 10625641.708421774, 10623543.007283304, 10621243.018771091, 10618601.15532016, 10615489.227290802, 10611766.976293406, 10607267.177520962, 10601783.8415404, 10595060.76660502, 10586779.320459414, 10576545.213085862, 10563874.749348648, 10548181.934942912, 10528769.057594853, 10504825.114990296]\n"
     ]
    },
    {
     "name": "stderr",
     "output_type": "stream",
     "text": [
      "\r",
      " 28%|██▊       | 28/100 [01:02<01:52,  1.57s/it]"
     ]
    },
    {
     "name": "stdout",
     "output_type": "stream",
     "text": [
      "[14428659.222999433, 12976263.509254532, 12150205.369988004, 11487554.301907709, 11030499.753017677, 10792925.485135127, 10694345.22396194, 10656270.827711038, 10640861.244591223, 10633920.266455343, 10630222.364395935, 10627741.810275564, 10625641.708421774, 10623543.007283304, 10621243.018771091, 10618601.15532016, 10615489.227290802, 10611766.976293406, 10607267.177520962, 10601783.8415404, 10595060.76660502, 10586779.320459414, 10576545.213085862, 10563874.749348648, 10548181.934942912, 10528769.057594853, 10504825.114990296, 10475438.712666523]\n"
     ]
    },
    {
     "name": "stderr",
     "output_type": "stream",
     "text": [
      "\r",
      " 29%|██▉       | 29/100 [01:04<01:53,  1.59s/it]"
     ]
    },
    {
     "name": "stdout",
     "output_type": "stream",
     "text": [
      "[14428659.222999433, 12976263.509254532, 12150205.369988004, 11487554.301907709, 11030499.753017677, 10792925.485135127, 10694345.22396194, 10656270.827711038, 10640861.244591223, 10633920.266455343, 10630222.364395935, 10627741.810275564, 10625641.708421774, 10623543.007283304, 10621243.018771091, 10618601.15532016, 10615489.227290802, 10611766.976293406, 10607267.177520962, 10601783.8415404, 10595060.76660502, 10586779.320459414, 10576545.213085862, 10563874.749348648, 10548181.934942912, 10528769.057594853, 10504825.114990296, 10475438.712666523, 10439634.497545108]\n"
     ]
    },
    {
     "name": "stderr",
     "output_type": "stream",
     "text": [
      "\r",
      " 30%|███       | 30/100 [01:06<01:52,  1.61s/it]"
     ]
    },
    {
     "name": "stdout",
     "output_type": "stream",
     "text": [
      "[14428659.222999433, 12976263.509254532, 12150205.369988004, 11487554.301907709, 11030499.753017677, 10792925.485135127, 10694345.22396194, 10656270.827711038, 10640861.244591223, 10633920.266455343, 10630222.364395935, 10627741.810275564, 10625641.708421774, 10623543.007283304, 10621243.018771091, 10618601.15532016, 10615489.227290802, 10611766.976293406, 10607267.177520962, 10601783.8415404, 10595060.76660502, 10586779.320459414, 10576545.213085862, 10563874.749348648, 10548181.934942912, 10528769.057594853, 10504825.114990296, 10475438.712666523, 10439634.497545108, 10396443.899822587]\n"
     ]
    },
    {
     "name": "stderr",
     "output_type": "stream",
     "text": [
      "\r",
      " 31%|███       | 31/100 [01:08<01:53,  1.65s/it]"
     ]
    },
    {
     "name": "stdout",
     "output_type": "stream",
     "text": [
      "[14428659.222999433, 12976263.509254532, 12150205.369988004, 11487554.301907709, 11030499.753017677, 10792925.485135127, 10694345.22396194, 10656270.827711038, 10640861.244591223, 10633920.266455343, 10630222.364395935, 10627741.810275564, 10625641.708421774, 10623543.007283304, 10621243.018771091, 10618601.15532016, 10615489.227290802, 10611766.976293406, 10607267.177520962, 10601783.8415404, 10595060.76660502, 10586779.320459414, 10576545.213085862, 10563874.749348648, 10548181.934942912, 10528769.057594853, 10504825.114990296, 10475438.712666523, 10439634.497545108, 10396443.899822587, 10345020.028792024]\n"
     ]
    },
    {
     "name": "stderr",
     "output_type": "stream",
     "text": [
      "\r",
      " 32%|███▏      | 32/100 [01:09<01:50,  1.63s/it]"
     ]
    },
    {
     "name": "stdout",
     "output_type": "stream",
     "text": [
      "[14428659.222999433, 12976263.509254532, 12150205.369988004, 11487554.301907709, 11030499.753017677, 10792925.485135127, 10694345.22396194, 10656270.827711038, 10640861.244591223, 10633920.266455343, 10630222.364395935, 10627741.810275564, 10625641.708421774, 10623543.007283304, 10621243.018771091, 10618601.15532016, 10615489.227290802, 10611766.976293406, 10607267.177520962, 10601783.8415404, 10595060.76660502, 10586779.320459414, 10576545.213085862, 10563874.749348648, 10548181.934942912, 10528769.057594853, 10504825.114990296, 10475438.712666523, 10439634.497545108, 10396443.899822587, 10345020.028792024, 10284800.019463554]\n"
     ]
    },
    {
     "name": "stderr",
     "output_type": "stream",
     "text": [
      "\r",
      " 33%|███▎      | 33/100 [01:11<01:47,  1.60s/it]"
     ]
    },
    {
     "name": "stdout",
     "output_type": "stream",
     "text": [
      "[14428659.222999433, 12976263.509254532, 12150205.369988004, 11487554.301907709, 11030499.753017677, 10792925.485135127, 10694345.22396194, 10656270.827711038, 10640861.244591223, 10633920.266455343, 10630222.364395935, 10627741.810275564, 10625641.708421774, 10623543.007283304, 10621243.018771091, 10618601.15532016, 10615489.227290802, 10611766.976293406, 10607267.177520962, 10601783.8415404, 10595060.76660502, 10586779.320459414, 10576545.213085862, 10563874.749348648, 10548181.934942912, 10528769.057594853, 10504825.114990296, 10475438.712666523, 10439634.497545108, 10396443.899822587, 10345020.028792024, 10284800.019463554, 10215702.699368741]\n"
     ]
    },
    {
     "name": "stderr",
     "output_type": "stream",
     "text": [
      "\r",
      " 34%|███▍      | 34/100 [01:12<01:42,  1.56s/it]"
     ]
    },
    {
     "name": "stdout",
     "output_type": "stream",
     "text": [
      "[14428659.222999433, 12976263.509254532, 12150205.369988004, 11487554.301907709, 11030499.753017677, 10792925.485135127, 10694345.22396194, 10656270.827711038, 10640861.244591223, 10633920.266455343, 10630222.364395935, 10627741.810275564, 10625641.708421774, 10623543.007283304, 10621243.018771091, 10618601.15532016, 10615489.227290802, 10611766.976293406, 10607267.177520962, 10601783.8415404, 10595060.76660502, 10586779.320459414, 10576545.213085862, 10563874.749348648, 10548181.934942912, 10528769.057594853, 10504825.114990296, 10475438.712666523, 10439634.497545108, 10396443.899822587, 10345020.028792024, 10284800.019463554, 10215702.699368741, 10138324.326914797]\n"
     ]
    },
    {
     "name": "stderr",
     "output_type": "stream",
     "text": [
      "\r",
      " 35%|███▌      | 35/100 [01:14<01:38,  1.51s/it]"
     ]
    },
    {
     "name": "stdout",
     "output_type": "stream",
     "text": [
      "[14428659.222999433, 12976263.509254532, 12150205.369988004, 11487554.301907709, 11030499.753017677, 10792925.485135127, 10694345.22396194, 10656270.827711038, 10640861.244591223, 10633920.266455343, 10630222.364395935, 10627741.810275564, 10625641.708421774, 10623543.007283304, 10621243.018771091, 10618601.15532016, 10615489.227290802, 10611766.976293406, 10607267.177520962, 10601783.8415404, 10595060.76660502, 10586779.320459414, 10576545.213085862, 10563874.749348648, 10548181.934942912, 10528769.057594853, 10504825.114990296, 10475438.712666523, 10439634.497545108, 10396443.899822587, 10345020.028792024, 10284800.019463554, 10215702.699368741, 10138324.326914797, 10054066.760496933]\n"
     ]
    },
    {
     "name": "stderr",
     "output_type": "stream",
     "text": [
      "\r",
      " 36%|███▌      | 36/100 [01:15<01:36,  1.50s/it]"
     ]
    },
    {
     "name": "stdout",
     "output_type": "stream",
     "text": [
      "[14428659.222999433, 12976263.509254532, 12150205.369988004, 11487554.301907709, 11030499.753017677, 10792925.485135127, 10694345.22396194, 10656270.827711038, 10640861.244591223, 10633920.266455343, 10630222.364395935, 10627741.810275564, 10625641.708421774, 10623543.007283304, 10621243.018771091, 10618601.15532016, 10615489.227290802, 10611766.976293406, 10607267.177520962, 10601783.8415404, 10595060.76660502, 10586779.320459414, 10576545.213085862, 10563874.749348648, 10548181.934942912, 10528769.057594853, 10504825.114990296, 10475438.712666523, 10439634.497545108, 10396443.899822587, 10345020.028792024, 10284800.019463554, 10215702.699368741, 10138324.326914797, 10054066.760496933, 9965118.28673719]\n"
     ]
    },
    {
     "name": "stderr",
     "output_type": "stream",
     "text": [
      "\r",
      " 37%|███▋      | 37/100 [01:17<01:35,  1.52s/it]"
     ]
    },
    {
     "name": "stdout",
     "output_type": "stream",
     "text": [
      "[14428659.222999433, 12976263.509254532, 12150205.369988004, 11487554.301907709, 11030499.753017677, 10792925.485135127, 10694345.22396194, 10656270.827711038, 10640861.244591223, 10633920.266455343, 10630222.364395935, 10627741.810275564, 10625641.708421774, 10623543.007283304, 10621243.018771091, 10618601.15532016, 10615489.227290802, 10611766.976293406, 10607267.177520962, 10601783.8415404, 10595060.76660502, 10586779.320459414, 10576545.213085862, 10563874.749348648, 10548181.934942912, 10528769.057594853, 10504825.114990296, 10475438.712666523, 10439634.497545108, 10396443.899822587, 10345020.028792024, 10284800.019463554, 10215702.699368741, 10138324.326914797, 10054066.760496933, 9965118.28673719, 9874231.550693259]\n"
     ]
    },
    {
     "name": "stderr",
     "output_type": "stream",
     "text": [
      "\r",
      " 38%|███▊      | 38/100 [01:18<01:32,  1.49s/it]"
     ]
    },
    {
     "name": "stdout",
     "output_type": "stream",
     "text": [
      "[14428659.222999433, 12976263.509254532, 12150205.369988004, 11487554.301907709, 11030499.753017677, 10792925.485135127, 10694345.22396194, 10656270.827711038, 10640861.244591223, 10633920.266455343, 10630222.364395935, 10627741.810275564, 10625641.708421774, 10623543.007283304, 10621243.018771091, 10618601.15532016, 10615489.227290802, 10611766.976293406, 10607267.177520962, 10601783.8415404, 10595060.76660502, 10586779.320459414, 10576545.213085862, 10563874.749348648, 10548181.934942912, 10528769.057594853, 10504825.114990296, 10475438.712666523, 10439634.497545108, 10396443.899822587, 10345020.028792024, 10284800.019463554, 10215702.699368741, 10138324.326914797, 10054066.760496933, 9965118.28673719, 9874231.550693259, 9784316.538858281]\n"
     ]
    },
    {
     "name": "stderr",
     "output_type": "stream",
     "text": [
      "\r",
      " 39%|███▉      | 39/100 [01:19<01:29,  1.46s/it]"
     ]
    },
    {
     "name": "stdout",
     "output_type": "stream",
     "text": [
      "[14428659.222999433, 12976263.509254532, 12150205.369988004, 11487554.301907709, 11030499.753017677, 10792925.485135127, 10694345.22396194, 10656270.827711038, 10640861.244591223, 10633920.266455343, 10630222.364395935, 10627741.810275564, 10625641.708421774, 10623543.007283304, 10621243.018771091, 10618601.15532016, 10615489.227290802, 10611766.976293406, 10607267.177520962, 10601783.8415404, 10595060.76660502, 10586779.320459414, 10576545.213085862, 10563874.749348648, 10548181.934942912, 10528769.057594853, 10504825.114990296, 10475438.712666523, 10439634.497545108, 10396443.899822587, 10345020.028792024, 10284800.019463554, 10215702.699368741, 10138324.326914797, 10054066.760496933, 9965118.28673719, 9874231.550693259, 9784316.538858281, 9697961.925280945]\n"
     ]
    },
    {
     "name": "stderr",
     "output_type": "stream",
     "text": [
      "\r",
      " 40%|████      | 40/100 [01:21<01:26,  1.44s/it]"
     ]
    },
    {
     "name": "stdout",
     "output_type": "stream",
     "text": [
      "[14428659.222999433, 12976263.509254532, 12150205.369988004, 11487554.301907709, 11030499.753017677, 10792925.485135127, 10694345.22396194, 10656270.827711038, 10640861.244591223, 10633920.266455343, 10630222.364395935, 10627741.810275564, 10625641.708421774, 10623543.007283304, 10621243.018771091, 10618601.15532016, 10615489.227290802, 10611766.976293406, 10607267.177520962, 10601783.8415404, 10595060.76660502, 10586779.320459414, 10576545.213085862, 10563874.749348648, 10548181.934942912, 10528769.057594853, 10504825.114990296, 10475438.712666523, 10439634.497545108, 10396443.899822587, 10345020.028792024, 10284800.019463554, 10215702.699368741, 10138324.326914797, 10054066.760496933, 9965118.28673719, 9874231.550693259, 9784316.538858281, 9697961.925280945, 9617051.0448454]\n"
     ]
    },
    {
     "name": "stderr",
     "output_type": "stream",
     "text": [
      "\r",
      " 41%|████      | 41/100 [01:22<01:24,  1.43s/it]"
     ]
    },
    {
     "name": "stdout",
     "output_type": "stream",
     "text": [
      "[14428659.222999433, 12976263.509254532, 12150205.369988004, 11487554.301907709, 11030499.753017677, 10792925.485135127, 10694345.22396194, 10656270.827711038, 10640861.244591223, 10633920.266455343, 10630222.364395935, 10627741.810275564, 10625641.708421774, 10623543.007283304, 10621243.018771091, 10618601.15532016, 10615489.227290802, 10611766.976293406, 10607267.177520962, 10601783.8415404, 10595060.76660502, 10586779.320459414, 10576545.213085862, 10563874.749348648, 10548181.934942912, 10528769.057594853, 10504825.114990296, 10475438.712666523, 10439634.497545108, 10396443.899822587, 10345020.028792024, 10284800.019463554, 10215702.699368741, 10138324.326914797, 10054066.760496933, 9965118.28673719, 9874231.550693259, 9784316.538858281, 9697961.925280945, 9617051.0448454, 9542598.311931051]\n"
     ]
    },
    {
     "name": "stderr",
     "output_type": "stream",
     "text": [
      "\r",
      " 42%|████▏     | 42/100 [01:24<01:22,  1.43s/it]"
     ]
    },
    {
     "name": "stdout",
     "output_type": "stream",
     "text": [
      "[14428659.222999433, 12976263.509254532, 12150205.369988004, 11487554.301907709, 11030499.753017677, 10792925.485135127, 10694345.22396194, 10656270.827711038, 10640861.244591223, 10633920.266455343, 10630222.364395935, 10627741.810275564, 10625641.708421774, 10623543.007283304, 10621243.018771091, 10618601.15532016, 10615489.227290802, 10611766.976293406, 10607267.177520962, 10601783.8415404, 10595060.76660502, 10586779.320459414, 10576545.213085862, 10563874.749348648, 10548181.934942912, 10528769.057594853, 10504825.114990296, 10475438.712666523, 10439634.497545108, 10396443.899822587, 10345020.028792024, 10284800.019463554, 10215702.699368741, 10138324.326914797, 10054066.760496933, 9965118.28673719, 9874231.550693259, 9784316.538858281, 9697961.925280945, 9617051.0448454, 9542598.311931051, 9474818.603298008]\n"
     ]
    },
    {
     "name": "stderr",
     "output_type": "stream",
     "text": [
      "\r",
      " 43%|████▎     | 43/100 [01:25<01:20,  1.42s/it]"
     ]
    },
    {
     "name": "stdout",
     "output_type": "stream",
     "text": [
      "[14428659.222999433, 12976263.509254532, 12150205.369988004, 11487554.301907709, 11030499.753017677, 10792925.485135127, 10694345.22396194, 10656270.827711038, 10640861.244591223, 10633920.266455343, 10630222.364395935, 10627741.810275564, 10625641.708421774, 10623543.007283304, 10621243.018771091, 10618601.15532016, 10615489.227290802, 10611766.976293406, 10607267.177520962, 10601783.8415404, 10595060.76660502, 10586779.320459414, 10576545.213085862, 10563874.749348648, 10548181.934942912, 10528769.057594853, 10504825.114990296, 10475438.712666523, 10439634.497545108, 10396443.899822587, 10345020.028792024, 10284800.019463554, 10215702.699368741, 10138324.326914797, 10054066.760496933, 9965118.28673719, 9874231.550693259, 9784316.538858281, 9697961.925280945, 9617051.0448454, 9542598.311931051, 9474818.603298008, 9413338.90820288]\n"
     ]
    },
    {
     "name": "stderr",
     "output_type": "stream",
     "text": [
      "\r",
      " 44%|████▍     | 44/100 [01:26<01:19,  1.42s/it]"
     ]
    },
    {
     "name": "stdout",
     "output_type": "stream",
     "text": [
      "[14428659.222999433, 12976263.509254532, 12150205.369988004, 11487554.301907709, 11030499.753017677, 10792925.485135127, 10694345.22396194, 10656270.827711038, 10640861.244591223, 10633920.266455343, 10630222.364395935, 10627741.810275564, 10625641.708421774, 10623543.007283304, 10621243.018771091, 10618601.15532016, 10615489.227290802, 10611766.976293406, 10607267.177520962, 10601783.8415404, 10595060.76660502, 10586779.320459414, 10576545.213085862, 10563874.749348648, 10548181.934942912, 10528769.057594853, 10504825.114990296, 10475438.712666523, 10439634.497545108, 10396443.899822587, 10345020.028792024, 10284800.019463554, 10215702.699368741, 10138324.326914797, 10054066.760496933, 9965118.28673719, 9874231.550693259, 9784316.538858281, 9697961.925280945, 9617051.0448454, 9542598.311931051, 9474818.603298008, 9413338.90820288, 9357435.088290734]\n"
     ]
    },
    {
     "name": "stderr",
     "output_type": "stream",
     "text": [
      "\r",
      " 45%|████▌     | 45/100 [01:28<01:17,  1.42s/it]"
     ]
    },
    {
     "name": "stdout",
     "output_type": "stream",
     "text": [
      "[14428659.222999433, 12976263.509254532, 12150205.369988004, 11487554.301907709, 11030499.753017677, 10792925.485135127, 10694345.22396194, 10656270.827711038, 10640861.244591223, 10633920.266455343, 10630222.364395935, 10627741.810275564, 10625641.708421774, 10623543.007283304, 10621243.018771091, 10618601.15532016, 10615489.227290802, 10611766.976293406, 10607267.177520962, 10601783.8415404, 10595060.76660502, 10586779.320459414, 10576545.213085862, 10563874.749348648, 10548181.934942912, 10528769.057594853, 10504825.114990296, 10475438.712666523, 10439634.497545108, 10396443.899822587, 10345020.028792024, 10284800.019463554, 10215702.699368741, 10138324.326914797, 10054066.760496933, 9965118.28673719, 9874231.550693259, 9784316.538858281, 9697961.925280945, 9617051.0448454, 9542598.311931051, 9474818.603298008, 9413338.90820288, 9357435.088290734, 9306220.673729314]\n"
     ]
    },
    {
     "name": "stderr",
     "output_type": "stream",
     "text": [
      "\r",
      " 46%|████▌     | 46/100 [01:29<01:16,  1.42s/it]"
     ]
    },
    {
     "name": "stdout",
     "output_type": "stream",
     "text": [
      "[14428659.222999433, 12976263.509254532, 12150205.369988004, 11487554.301907709, 11030499.753017677, 10792925.485135127, 10694345.22396194, 10656270.827711038, 10640861.244591223, 10633920.266455343, 10630222.364395935, 10627741.810275564, 10625641.708421774, 10623543.007283304, 10621243.018771091, 10618601.15532016, 10615489.227290802, 10611766.976293406, 10607267.177520962, 10601783.8415404, 10595060.76660502, 10586779.320459414, 10576545.213085862, 10563874.749348648, 10548181.934942912, 10528769.057594853, 10504825.114990296, 10475438.712666523, 10439634.497545108, 10396443.899822587, 10345020.028792024, 10284800.019463554, 10215702.699368741, 10138324.326914797, 10054066.760496933, 9965118.28673719, 9874231.550693259, 9784316.538858281, 9697961.925280945, 9617051.0448454, 9542598.311931051, 9474818.603298008, 9413338.90820288, 9357435.088290734, 9306220.673729314, 9258774.395844651]\n"
     ]
    },
    {
     "name": "stderr",
     "output_type": "stream",
     "text": [
      "\r",
      " 47%|████▋     | 47/100 [01:31<01:15,  1.42s/it]"
     ]
    },
    {
     "name": "stdout",
     "output_type": "stream",
     "text": [
      "[14428659.222999433, 12976263.509254532, 12150205.369988004, 11487554.301907709, 11030499.753017677, 10792925.485135127, 10694345.22396194, 10656270.827711038, 10640861.244591223, 10633920.266455343, 10630222.364395935, 10627741.810275564, 10625641.708421774, 10623543.007283304, 10621243.018771091, 10618601.15532016, 10615489.227290802, 10611766.976293406, 10607267.177520962, 10601783.8415404, 10595060.76660502, 10586779.320459414, 10576545.213085862, 10563874.749348648, 10548181.934942912, 10528769.057594853, 10504825.114990296, 10475438.712666523, 10439634.497545108, 10396443.899822587, 10345020.028792024, 10284800.019463554, 10215702.699368741, 10138324.326914797, 10054066.760496933, 9965118.28673719, 9874231.550693259, 9784316.538858281, 9697961.925280945, 9617051.0448454, 9542598.311931051, 9474818.603298008, 9413338.90820288, 9357435.088290734, 9306220.673729314, 9258774.395844651, 9214224.999999847]\n"
     ]
    },
    {
     "name": "stderr",
     "output_type": "stream",
     "text": [
      "\r",
      " 48%|████▊     | 48/100 [01:32<01:13,  1.42s/it]"
     ]
    },
    {
     "name": "stdout",
     "output_type": "stream",
     "text": [
      "[14428659.222999433, 12976263.509254532, 12150205.369988004, 11487554.301907709, 11030499.753017677, 10792925.485135127, 10694345.22396194, 10656270.827711038, 10640861.244591223, 10633920.266455343, 10630222.364395935, 10627741.810275564, 10625641.708421774, 10623543.007283304, 10621243.018771091, 10618601.15532016, 10615489.227290802, 10611766.976293406, 10607267.177520962, 10601783.8415404, 10595060.76660502, 10586779.320459414, 10576545.213085862, 10563874.749348648, 10548181.934942912, 10528769.057594853, 10504825.114990296, 10475438.712666523, 10439634.497545108, 10396443.899822587, 10345020.028792024, 10284800.019463554, 10215702.699368741, 10138324.326914797, 10054066.760496933, 9965118.28673719, 9874231.550693259, 9784316.538858281, 9697961.925280945, 9617051.0448454, 9542598.311931051, 9474818.603298008, 9413338.90820288, 9357435.088290734, 9306220.673729314, 9258774.395844651, 9214224.999999847, 9171811.175690277]\n"
     ]
    },
    {
     "name": "stderr",
     "output_type": "stream",
     "text": [
      "\r",
      " 49%|████▉     | 49/100 [01:34<01:12,  1.42s/it]"
     ]
    },
    {
     "name": "stdout",
     "output_type": "stream",
     "text": [
      "[14428659.222999433, 12976263.509254532, 12150205.369988004, 11487554.301907709, 11030499.753017677, 10792925.485135127, 10694345.22396194, 10656270.827711038, 10640861.244591223, 10633920.266455343, 10630222.364395935, 10627741.810275564, 10625641.708421774, 10623543.007283304, 10621243.018771091, 10618601.15532016, 10615489.227290802, 10611766.976293406, 10607267.177520962, 10601783.8415404, 10595060.76660502, 10586779.320459414, 10576545.213085862, 10563874.749348648, 10548181.934942912, 10528769.057594853, 10504825.114990296, 10475438.712666523, 10439634.497545108, 10396443.899822587, 10345020.028792024, 10284800.019463554, 10215702.699368741, 10138324.326914797, 10054066.760496933, 9965118.28673719, 9874231.550693259, 9784316.538858281, 9697961.925280945, 9617051.0448454, 9542598.311931051, 9474818.603298008, 9413338.90820288, 9357435.088290734, 9306220.673729314, 9258774.395844651, 9214224.999999847, 9171811.175690277, 9130921.047594838]\n"
     ]
    },
    {
     "name": "stderr",
     "output_type": "stream",
     "text": [
      "\r",
      " 50%|█████     | 50/100 [01:35<01:11,  1.42s/it]"
     ]
    },
    {
     "name": "stdout",
     "output_type": "stream",
     "text": [
      "[14428659.222999433, 12976263.509254532, 12150205.369988004, 11487554.301907709, 11030499.753017677, 10792925.485135127, 10694345.22396194, 10656270.827711038, 10640861.244591223, 10633920.266455343, 10630222.364395935, 10627741.810275564, 10625641.708421774, 10623543.007283304, 10621243.018771091, 10618601.15532016, 10615489.227290802, 10611766.976293406, 10607267.177520962, 10601783.8415404, 10595060.76660502, 10586779.320459414, 10576545.213085862, 10563874.749348648, 10548181.934942912, 10528769.057594853, 10504825.114990296, 10475438.712666523, 10439634.497545108, 10396443.899822587, 10345020.028792024, 10284800.019463554, 10215702.699368741, 10138324.326914797, 10054066.760496933, 9965118.28673719, 9874231.550693259, 9784316.538858281, 9697961.925280945, 9617051.0448454, 9542598.311931051, 9474818.603298008, 9413338.90820288, 9357435.088290734, 9306220.673729314, 9258774.395844651, 9214224.999999847, 9171811.175690277, 9130921.047594838, 9091107.947835488]\n"
     ]
    },
    {
     "name": "stderr",
     "output_type": "stream",
     "text": [
      "\r",
      " 51%|█████     | 51/100 [01:36<01:10,  1.43s/it]"
     ]
    },
    {
     "name": "stdout",
     "output_type": "stream",
     "text": [
      "[14428659.222999433, 12976263.509254532, 12150205.369988004, 11487554.301907709, 11030499.753017677, 10792925.485135127, 10694345.22396194, 10656270.827711038, 10640861.244591223, 10633920.266455343, 10630222.364395935, 10627741.810275564, 10625641.708421774, 10623543.007283304, 10621243.018771091, 10618601.15532016, 10615489.227290802, 10611766.976293406, 10607267.177520962, 10601783.8415404, 10595060.76660502, 10586779.320459414, 10576545.213085862, 10563874.749348648, 10548181.934942912, 10528769.057594853, 10504825.114990296, 10475438.712666523, 10439634.497545108, 10396443.899822587, 10345020.028792024, 10284800.019463554, 10215702.699368741, 10138324.326914797, 10054066.760496933, 9965118.28673719, 9874231.550693259, 9784316.538858281, 9697961.925280945, 9617051.0448454, 9542598.311931051, 9474818.603298008, 9413338.90820288, 9357435.088290734, 9306220.673729314, 9258774.395844651, 9214224.999999847, 9171811.175690277, 9130921.047594838, 9091107.947835488, 9052081.58444515]\n"
     ]
    },
    {
     "name": "stderr",
     "output_type": "stream",
     "text": [
      "\r",
      " 52%|█████▏    | 52/100 [01:38<01:08,  1.43s/it]"
     ]
    },
    {
     "name": "stdout",
     "output_type": "stream",
     "text": [
      "[14428659.222999433, 12976263.509254532, 12150205.369988004, 11487554.301907709, 11030499.753017677, 10792925.485135127, 10694345.22396194, 10656270.827711038, 10640861.244591223, 10633920.266455343, 10630222.364395935, 10627741.810275564, 10625641.708421774, 10623543.007283304, 10621243.018771091, 10618601.15532016, 10615489.227290802, 10611766.976293406, 10607267.177520962, 10601783.8415404, 10595060.76660502, 10586779.320459414, 10576545.213085862, 10563874.749348648, 10548181.934942912, 10528769.057594853, 10504825.114990296, 10475438.712666523, 10439634.497545108, 10396443.899822587, 10345020.028792024, 10284800.019463554, 10215702.699368741, 10138324.326914797, 10054066.760496933, 9965118.28673719, 9874231.550693259, 9784316.538858281, 9697961.925280945, 9617051.0448454, 9542598.311931051, 9474818.603298008, 9413338.90820288, 9357435.088290734, 9306220.673729314, 9258774.395844651, 9214224.999999847, 9171811.175690277, 9130921.047594838, 9091107.947835488, 9052081.58444515, 9013680.492462875]\n"
     ]
    },
    {
     "name": "stderr",
     "output_type": "stream",
     "text": [
      "\r",
      " 53%|█████▎    | 53/100 [01:39<01:07,  1.43s/it]"
     ]
    },
    {
     "name": "stdout",
     "output_type": "stream",
     "text": [
      "[14428659.222999433, 12976263.509254532, 12150205.369988004, 11487554.301907709, 11030499.753017677, 10792925.485135127, 10694345.22396194, 10656270.827711038, 10640861.244591223, 10633920.266455343, 10630222.364395935, 10627741.810275564, 10625641.708421774, 10623543.007283304, 10621243.018771091, 10618601.15532016, 10615489.227290802, 10611766.976293406, 10607267.177520962, 10601783.8415404, 10595060.76660502, 10586779.320459414, 10576545.213085862, 10563874.749348648, 10548181.934942912, 10528769.057594853, 10504825.114990296, 10475438.712666523, 10439634.497545108, 10396443.899822587, 10345020.028792024, 10284800.019463554, 10215702.699368741, 10138324.326914797, 10054066.760496933, 9965118.28673719, 9874231.550693259, 9784316.538858281, 9697961.925280945, 9617051.0448454, 9542598.311931051, 9474818.603298008, 9413338.90820288, 9357435.088290734, 9306220.673729314, 9258774.395844651, 9214224.999999847, 9171811.175690277, 9130921.047594838, 9091107.947835488, 9052081.58444515, 9013680.492462875, 8975836.032122783]\n"
     ]
    },
    {
     "name": "stderr",
     "output_type": "stream",
     "text": [
      "\r",
      " 54%|█████▍    | 54/100 [01:41<01:05,  1.43s/it]"
     ]
    },
    {
     "name": "stdout",
     "output_type": "stream",
     "text": [
      "[14428659.222999433, 12976263.509254532, 12150205.369988004, 11487554.301907709, 11030499.753017677, 10792925.485135127, 10694345.22396194, 10656270.827711038, 10640861.244591223, 10633920.266455343, 10630222.364395935, 10627741.810275564, 10625641.708421774, 10623543.007283304, 10621243.018771091, 10618601.15532016, 10615489.227290802, 10611766.976293406, 10607267.177520962, 10601783.8415404, 10595060.76660502, 10586779.320459414, 10576545.213085862, 10563874.749348648, 10548181.934942912, 10528769.057594853, 10504825.114990296, 10475438.712666523, 10439634.497545108, 10396443.899822587, 10345020.028792024, 10284800.019463554, 10215702.699368741, 10138324.326914797, 10054066.760496933, 9965118.28673719, 9874231.550693259, 9784316.538858281, 9697961.925280945, 9617051.0448454, 9542598.311931051, 9474818.603298008, 9413338.90820288, 9357435.088290734, 9306220.673729314, 9258774.395844651, 9214224.999999847, 9171811.175690277, 9130921.047594838, 9091107.947835488, 9052081.58444515, 9013680.492462875, 8975836.032122783, 8938537.673341513]\n"
     ]
    },
    {
     "name": "stderr",
     "output_type": "stream",
     "text": [
      "\r",
      " 55%|█████▌    | 55/100 [01:42<01:04,  1.43s/it]"
     ]
    },
    {
     "name": "stdout",
     "output_type": "stream",
     "text": [
      "[14428659.222999433, 12976263.509254532, 12150205.369988004, 11487554.301907709, 11030499.753017677, 10792925.485135127, 10694345.22396194, 10656270.827711038, 10640861.244591223, 10633920.266455343, 10630222.364395935, 10627741.810275564, 10625641.708421774, 10623543.007283304, 10621243.018771091, 10618601.15532016, 10615489.227290802, 10611766.976293406, 10607267.177520962, 10601783.8415404, 10595060.76660502, 10586779.320459414, 10576545.213085862, 10563874.749348648, 10548181.934942912, 10528769.057594853, 10504825.114990296, 10475438.712666523, 10439634.497545108, 10396443.899822587, 10345020.028792024, 10284800.019463554, 10215702.699368741, 10138324.326914797, 10054066.760496933, 9965118.28673719, 9874231.550693259, 9784316.538858281, 9697961.925280945, 9617051.0448454, 9542598.311931051, 9474818.603298008, 9413338.90820288, 9357435.088290734, 9306220.673729314, 9258774.395844651, 9214224.999999847, 9171811.175690277, 9130921.047594838, 9091107.947835488, 9052081.58444515, 9013680.492462875, 8975836.032122783, 8938537.673341513, 8901805.396352377]\n"
     ]
    },
    {
     "name": "stderr",
     "output_type": "stream",
     "text": [
      "\r",
      " 56%|█████▌    | 56/100 [01:44<01:03,  1.43s/it]"
     ]
    },
    {
     "name": "stdout",
     "output_type": "stream",
     "text": [
      "[14428659.222999433, 12976263.509254532, 12150205.369988004, 11487554.301907709, 11030499.753017677, 10792925.485135127, 10694345.22396194, 10656270.827711038, 10640861.244591223, 10633920.266455343, 10630222.364395935, 10627741.810275564, 10625641.708421774, 10623543.007283304, 10621243.018771091, 10618601.15532016, 10615489.227290802, 10611766.976293406, 10607267.177520962, 10601783.8415404, 10595060.76660502, 10586779.320459414, 10576545.213085862, 10563874.749348648, 10548181.934942912, 10528769.057594853, 10504825.114990296, 10475438.712666523, 10439634.497545108, 10396443.899822587, 10345020.028792024, 10284800.019463554, 10215702.699368741, 10138324.326914797, 10054066.760496933, 9965118.28673719, 9874231.550693259, 9784316.538858281, 9697961.925280945, 9617051.0448454, 9542598.311931051, 9474818.603298008, 9413338.90820288, 9357435.088290734, 9306220.673729314, 9258774.395844651, 9214224.999999847, 9171811.175690277, 9130921.047594838, 9091107.947835488, 9052081.58444515, 9013680.492462875, 8975836.032122783, 8938537.673341513, 8901805.396352377, 8865670.62312071]\n"
     ]
    },
    {
     "name": "stderr",
     "output_type": "stream",
     "text": [
      "\r",
      " 57%|█████▋    | 57/100 [01:45<01:01,  1.43s/it]"
     ]
    },
    {
     "name": "stdout",
     "output_type": "stream",
     "text": [
      "[14428659.222999433, 12976263.509254532, 12150205.369988004, 11487554.301907709, 11030499.753017677, 10792925.485135127, 10694345.22396194, 10656270.827711038, 10640861.244591223, 10633920.266455343, 10630222.364395935, 10627741.810275564, 10625641.708421774, 10623543.007283304, 10621243.018771091, 10618601.15532016, 10615489.227290802, 10611766.976293406, 10607267.177520962, 10601783.8415404, 10595060.76660502, 10586779.320459414, 10576545.213085862, 10563874.749348648, 10548181.934942912, 10528769.057594853, 10504825.114990296, 10475438.712666523, 10439634.497545108, 10396443.899822587, 10345020.028792024, 10284800.019463554, 10215702.699368741, 10138324.326914797, 10054066.760496933, 9965118.28673719, 9874231.550693259, 9784316.538858281, 9697961.925280945, 9617051.0448454, 9542598.311931051, 9474818.603298008, 9413338.90820288, 9357435.088290734, 9306220.673729314, 9258774.395844651, 9214224.999999847, 9171811.175690277, 9130921.047594838, 9091107.947835488, 9052081.58444515, 9013680.492462875, 8975836.032122783, 8938537.673341513, 8901805.396352377, 8865670.62312071, 8830164.223772436]\n"
     ]
    },
    {
     "name": "stderr",
     "output_type": "stream",
     "text": [
      "\r",
      " 58%|█████▊    | 58/100 [01:46<01:00,  1.43s/it]"
     ]
    },
    {
     "name": "stdout",
     "output_type": "stream",
     "text": [
      "[14428659.222999433, 12976263.509254532, 12150205.369988004, 11487554.301907709, 11030499.753017677, 10792925.485135127, 10694345.22396194, 10656270.827711038, 10640861.244591223, 10633920.266455343, 10630222.364395935, 10627741.810275564, 10625641.708421774, 10623543.007283304, 10621243.018771091, 10618601.15532016, 10615489.227290802, 10611766.976293406, 10607267.177520962, 10601783.8415404, 10595060.76660502, 10586779.320459414, 10576545.213085862, 10563874.749348648, 10548181.934942912, 10528769.057594853, 10504825.114990296, 10475438.712666523, 10439634.497545108, 10396443.899822587, 10345020.028792024, 10284800.019463554, 10215702.699368741, 10138324.326914797, 10054066.760496933, 9965118.28673719, 9874231.550693259, 9784316.538858281, 9697961.925280945, 9617051.0448454, 9542598.311931051, 9474818.603298008, 9413338.90820288, 9357435.088290734, 9306220.673729314, 9258774.395844651, 9214224.999999847, 9171811.175690277, 9130921.047594838, 9091107.947835488, 9052081.58444515, 9013680.492462875, 8975836.032122783, 8938537.673341513, 8901805.396352377, 8865670.62312071, 8830164.223772436, 8795309.312583825]\n"
     ]
    },
    {
     "name": "stderr",
     "output_type": "stream",
     "text": [
      "\r",
      " 59%|█████▉    | 59/100 [01:48<00:58,  1.43s/it]"
     ]
    },
    {
     "name": "stdout",
     "output_type": "stream",
     "text": [
      "[14428659.222999433, 12976263.509254532, 12150205.369988004, 11487554.301907709, 11030499.753017677, 10792925.485135127, 10694345.22396194, 10656270.827711038, 10640861.244591223, 10633920.266455343, 10630222.364395935, 10627741.810275564, 10625641.708421774, 10623543.007283304, 10621243.018771091, 10618601.15532016, 10615489.227290802, 10611766.976293406, 10607267.177520962, 10601783.8415404, 10595060.76660502, 10586779.320459414, 10576545.213085862, 10563874.749348648, 10548181.934942912, 10528769.057594853, 10504825.114990296, 10475438.712666523, 10439634.497545108, 10396443.899822587, 10345020.028792024, 10284800.019463554, 10215702.699368741, 10138324.326914797, 10054066.760496933, 9965118.28673719, 9874231.550693259, 9784316.538858281, 9697961.925280945, 9617051.0448454, 9542598.311931051, 9474818.603298008, 9413338.90820288, 9357435.088290734, 9306220.673729314, 9258774.395844651, 9214224.999999847, 9171811.175690277, 9130921.047594838, 9091107.947835488, 9052081.58444515, 9013680.492462875, 8975836.032122783, 8938537.673341513, 8901805.396352377, 8865670.62312071, 8830164.223772436, 8795309.312583825, 8761117.098379806]\n"
     ]
    },
    {
     "name": "stderr",
     "output_type": "stream",
     "text": [
      "\r",
      " 60%|██████    | 60/100 [01:49<00:57,  1.45s/it]"
     ]
    },
    {
     "name": "stdout",
     "output_type": "stream",
     "text": [
      "[14428659.222999433, 12976263.509254532, 12150205.369988004, 11487554.301907709, 11030499.753017677, 10792925.485135127, 10694345.22396194, 10656270.827711038, 10640861.244591223, 10633920.266455343, 10630222.364395935, 10627741.810275564, 10625641.708421774, 10623543.007283304, 10621243.018771091, 10618601.15532016, 10615489.227290802, 10611766.976293406, 10607267.177520962, 10601783.8415404, 10595060.76660502, 10586779.320459414, 10576545.213085862, 10563874.749348648, 10548181.934942912, 10528769.057594853, 10504825.114990296, 10475438.712666523, 10439634.497545108, 10396443.899822587, 10345020.028792024, 10284800.019463554, 10215702.699368741, 10138324.326914797, 10054066.760496933, 9965118.28673719, 9874231.550693259, 9784316.538858281, 9697961.925280945, 9617051.0448454, 9542598.311931051, 9474818.603298008, 9413338.90820288, 9357435.088290734, 9306220.673729314, 9258774.395844651, 9214224.999999847, 9171811.175690277, 9130921.047594838, 9091107.947835488, 9052081.58444515, 9013680.492462875, 8975836.032122783, 8938537.673341513, 8901805.396352377, 8865670.62312071, 8830164.223772436, 8795309.312583825, 8761117.098379806, 8727584.980335822]\n"
     ]
    },
    {
     "name": "stderr",
     "output_type": "stream",
     "text": [
      "\r",
      " 61%|██████    | 61/100 [01:51<00:56,  1.45s/it]"
     ]
    },
    {
     "name": "stdout",
     "output_type": "stream",
     "text": [
      "[14428659.222999433, 12976263.509254532, 12150205.369988004, 11487554.301907709, 11030499.753017677, 10792925.485135127, 10694345.22396194, 10656270.827711038, 10640861.244591223, 10633920.266455343, 10630222.364395935, 10627741.810275564, 10625641.708421774, 10623543.007283304, 10621243.018771091, 10618601.15532016, 10615489.227290802, 10611766.976293406, 10607267.177520962, 10601783.8415404, 10595060.76660502, 10586779.320459414, 10576545.213085862, 10563874.749348648, 10548181.934942912, 10528769.057594853, 10504825.114990296, 10475438.712666523, 10439634.497545108, 10396443.899822587, 10345020.028792024, 10284800.019463554, 10215702.699368741, 10138324.326914797, 10054066.760496933, 9965118.28673719, 9874231.550693259, 9784316.538858281, 9697961.925280945, 9617051.0448454, 9542598.311931051, 9474818.603298008, 9413338.90820288, 9357435.088290734, 9306220.673729314, 9258774.395844651, 9214224.999999847, 9171811.175690277, 9130921.047594838, 9091107.947835488, 9052081.58444515, 9013680.492462875, 8975836.032122783, 8938537.673341513, 8901805.396352377, 8865670.62312071, 8830164.223772436, 8795309.312583825, 8761117.098379806, 8727584.980335822, 8694696.677922929]\n"
     ]
    },
    {
     "name": "stderr",
     "output_type": "stream",
     "text": [
      "\r",
      " 62%|██████▏   | 62/100 [01:52<00:55,  1.45s/it]"
     ]
    },
    {
     "name": "stdout",
     "output_type": "stream",
     "text": [
      "[14428659.222999433, 12976263.509254532, 12150205.369988004, 11487554.301907709, 11030499.753017677, 10792925.485135127, 10694345.22396194, 10656270.827711038, 10640861.244591223, 10633920.266455343, 10630222.364395935, 10627741.810275564, 10625641.708421774, 10623543.007283304, 10621243.018771091, 10618601.15532016, 10615489.227290802, 10611766.976293406, 10607267.177520962, 10601783.8415404, 10595060.76660502, 10586779.320459414, 10576545.213085862, 10563874.749348648, 10548181.934942912, 10528769.057594853, 10504825.114990296, 10475438.712666523, 10439634.497545108, 10396443.899822587, 10345020.028792024, 10284800.019463554, 10215702.699368741, 10138324.326914797, 10054066.760496933, 9965118.28673719, 9874231.550693259, 9784316.538858281, 9697961.925280945, 9617051.0448454, 9542598.311931051, 9474818.603298008, 9413338.90820288, 9357435.088290734, 9306220.673729314, 9258774.395844651, 9214224.999999847, 9171811.175690277, 9130921.047594838, 9091107.947835488, 9052081.58444515, 9013680.492462875, 8975836.032122783, 8938537.673341513, 8901805.396352377, 8865670.62312071, 8830164.223772436, 8795309.312583825, 8761117.098379806, 8727584.980335822, 8694696.677922929, 8662424.263613285]\n"
     ]
    },
    {
     "name": "stderr",
     "output_type": "stream",
     "text": [
      "\r",
      " 63%|██████▎   | 63/100 [01:54<00:53,  1.45s/it]"
     ]
    },
    {
     "name": "stdout",
     "output_type": "stream",
     "text": [
      "[14428659.222999433, 12976263.509254532, 12150205.369988004, 11487554.301907709, 11030499.753017677, 10792925.485135127, 10694345.22396194, 10656270.827711038, 10640861.244591223, 10633920.266455343, 10630222.364395935, 10627741.810275564, 10625641.708421774, 10623543.007283304, 10621243.018771091, 10618601.15532016, 10615489.227290802, 10611766.976293406, 10607267.177520962, 10601783.8415404, 10595060.76660502, 10586779.320459414, 10576545.213085862, 10563874.749348648, 10548181.934942912, 10528769.057594853, 10504825.114990296, 10475438.712666523, 10439634.497545108, 10396443.899822587, 10345020.028792024, 10284800.019463554, 10215702.699368741, 10138324.326914797, 10054066.760496933, 9965118.28673719, 9874231.550693259, 9784316.538858281, 9697961.925280945, 9617051.0448454, 9542598.311931051, 9474818.603298008, 9413338.90820288, 9357435.088290734, 9306220.673729314, 9258774.395844651, 9214224.999999847, 9171811.175690277, 9130921.047594838, 9091107.947835488, 9052081.58444515, 9013680.492462875, 8975836.032122783, 8938537.673341513, 8901805.396352377, 8865670.62312071, 8830164.223772436, 8795309.312583825, 8761117.098379806, 8727584.980335822, 8694696.677922929, 8662424.263613285, 8630731.711116105]\n"
     ]
    },
    {
     "name": "stderr",
     "output_type": "stream",
     "text": [
      "\r",
      " 64%|██████▍   | 64/100 [01:55<00:52,  1.45s/it]"
     ]
    },
    {
     "name": "stdout",
     "output_type": "stream",
     "text": [
      "[14428659.222999433, 12976263.509254532, 12150205.369988004, 11487554.301907709, 11030499.753017677, 10792925.485135127, 10694345.22396194, 10656270.827711038, 10640861.244591223, 10633920.266455343, 10630222.364395935, 10627741.810275564, 10625641.708421774, 10623543.007283304, 10621243.018771091, 10618601.15532016, 10615489.227290802, 10611766.976293406, 10607267.177520962, 10601783.8415404, 10595060.76660502, 10586779.320459414, 10576545.213085862, 10563874.749348648, 10548181.934942912, 10528769.057594853, 10504825.114990296, 10475438.712666523, 10439634.497545108, 10396443.899822587, 10345020.028792024, 10284800.019463554, 10215702.699368741, 10138324.326914797, 10054066.760496933, 9965118.28673719, 9874231.550693259, 9784316.538858281, 9697961.925280945, 9617051.0448454, 9542598.311931051, 9474818.603298008, 9413338.90820288, 9357435.088290734, 9306220.673729314, 9258774.395844651, 9214224.999999847, 9171811.175690277, 9130921.047594838, 9091107.947835488, 9052081.58444515, 9013680.492462875, 8975836.032122783, 8938537.673341513, 8901805.396352377, 8865670.62312071, 8830164.223772436, 8795309.312583825, 8761117.098379806, 8727584.980335822, 8694696.677922929, 8662424.263613285, 8630731.711116105, 8599579.26799212]\n"
     ]
    },
    {
     "name": "stderr",
     "output_type": "stream",
     "text": [
      "\r",
      " 65%|██████▌   | 65/100 [01:57<00:50,  1.45s/it]"
     ]
    },
    {
     "name": "stdout",
     "output_type": "stream",
     "text": [
      "[14428659.222999433, 12976263.509254532, 12150205.369988004, 11487554.301907709, 11030499.753017677, 10792925.485135127, 10694345.22396194, 10656270.827711038, 10640861.244591223, 10633920.266455343, 10630222.364395935, 10627741.810275564, 10625641.708421774, 10623543.007283304, 10621243.018771091, 10618601.15532016, 10615489.227290802, 10611766.976293406, 10607267.177520962, 10601783.8415404, 10595060.76660502, 10586779.320459414, 10576545.213085862, 10563874.749348648, 10548181.934942912, 10528769.057594853, 10504825.114990296, 10475438.712666523, 10439634.497545108, 10396443.899822587, 10345020.028792024, 10284800.019463554, 10215702.699368741, 10138324.326914797, 10054066.760496933, 9965118.28673719, 9874231.550693259, 9784316.538858281, 9697961.925280945, 9617051.0448454, 9542598.311931051, 9474818.603298008, 9413338.90820288, 9357435.088290734, 9306220.673729314, 9258774.395844651, 9214224.999999847, 9171811.175690277, 9130921.047594838, 9091107.947835488, 9052081.58444515, 9013680.492462875, 8975836.032122783, 8938537.673341513, 8901805.396352377, 8865670.62312071, 8830164.223772436, 8795309.312583825, 8761117.098379806, 8727584.980335822, 8694696.677922929, 8662424.263613285, 8630731.711116105, 8599579.26799212, 8568927.811702702]\n"
     ]
    },
    {
     "name": "stderr",
     "output_type": "stream",
     "text": [
      "\r",
      " 66%|██████▌   | 66/100 [01:58<00:49,  1.44s/it]"
     ]
    },
    {
     "name": "stdout",
     "output_type": "stream",
     "text": [
      "[14428659.222999433, 12976263.509254532, 12150205.369988004, 11487554.301907709, 11030499.753017677, 10792925.485135127, 10694345.22396194, 10656270.827711038, 10640861.244591223, 10633920.266455343, 10630222.364395935, 10627741.810275564, 10625641.708421774, 10623543.007283304, 10621243.018771091, 10618601.15532016, 10615489.227290802, 10611766.976293406, 10607267.177520962, 10601783.8415404, 10595060.76660502, 10586779.320459414, 10576545.213085862, 10563874.749348648, 10548181.934942912, 10528769.057594853, 10504825.114990296, 10475438.712666523, 10439634.497545108, 10396443.899822587, 10345020.028792024, 10284800.019463554, 10215702.699368741, 10138324.326914797, 10054066.760496933, 9965118.28673719, 9874231.550693259, 9784316.538858281, 9697961.925280945, 9617051.0448454, 9542598.311931051, 9474818.603298008, 9413338.90820288, 9357435.088290734, 9306220.673729314, 9258774.395844651, 9214224.999999847, 9171811.175690277, 9130921.047594838, 9091107.947835488, 9052081.58444515, 9013680.492462875, 8975836.032122783, 8938537.673341513, 8901805.396352377, 8865670.62312071, 8830164.223772436, 8795309.312583825, 8761117.098379806, 8727584.980335822, 8694696.677922929, 8662424.263613285, 8630731.711116105, 8599579.26799212, 8568927.811702702, 8538742.414467791]\n"
     ]
    },
    {
     "name": "stderr",
     "output_type": "stream",
     "text": [
      "\r",
      " 67%|██████▋   | 67/100 [01:59<00:47,  1.45s/it]"
     ]
    },
    {
     "name": "stdout",
     "output_type": "stream",
     "text": [
      "[14428659.222999433, 12976263.509254532, 12150205.369988004, 11487554.301907709, 11030499.753017677, 10792925.485135127, 10694345.22396194, 10656270.827711038, 10640861.244591223, 10633920.266455343, 10630222.364395935, 10627741.810275564, 10625641.708421774, 10623543.007283304, 10621243.018771091, 10618601.15532016, 10615489.227290802, 10611766.976293406, 10607267.177520962, 10601783.8415404, 10595060.76660502, 10586779.320459414, 10576545.213085862, 10563874.749348648, 10548181.934942912, 10528769.057594853, 10504825.114990296, 10475438.712666523, 10439634.497545108, 10396443.899822587, 10345020.028792024, 10284800.019463554, 10215702.699368741, 10138324.326914797, 10054066.760496933, 9965118.28673719, 9874231.550693259, 9784316.538858281, 9697961.925280945, 9617051.0448454, 9542598.311931051, 9474818.603298008, 9413338.90820288, 9357435.088290734, 9306220.673729314, 9258774.395844651, 9214224.999999847, 9171811.175690277, 9130921.047594838, 9091107.947835488, 9052081.58444515, 9013680.492462875, 8975836.032122783, 8938537.673341513, 8901805.396352377, 8865670.62312071, 8830164.223772436, 8795309.312583825, 8761117.098379806, 8727584.980335822, 8694696.677922929, 8662424.263613285, 8630731.711116105, 8599579.26799212, 8568927.811702702, 8538742.414467791, 8508994.582590593]\n"
     ]
    },
    {
     "name": "stderr",
     "output_type": "stream",
     "text": [
      "\r",
      " 68%|██████▊   | 68/100 [02:01<00:46,  1.44s/it]"
     ]
    },
    {
     "name": "stdout",
     "output_type": "stream",
     "text": [
      "[14428659.222999433, 12976263.509254532, 12150205.369988004, 11487554.301907709, 11030499.753017677, 10792925.485135127, 10694345.22396194, 10656270.827711038, 10640861.244591223, 10633920.266455343, 10630222.364395935, 10627741.810275564, 10625641.708421774, 10623543.007283304, 10621243.018771091, 10618601.15532016, 10615489.227290802, 10611766.976293406, 10607267.177520962, 10601783.8415404, 10595060.76660502, 10586779.320459414, 10576545.213085862, 10563874.749348648, 10548181.934942912, 10528769.057594853, 10504825.114990296, 10475438.712666523, 10439634.497545108, 10396443.899822587, 10345020.028792024, 10284800.019463554, 10215702.699368741, 10138324.326914797, 10054066.760496933, 9965118.28673719, 9874231.550693259, 9784316.538858281, 9697961.925280945, 9617051.0448454, 9542598.311931051, 9474818.603298008, 9413338.90820288, 9357435.088290734, 9306220.673729314, 9258774.395844651, 9214224.999999847, 9171811.175690277, 9130921.047594838, 9091107.947835488, 9052081.58444515, 9013680.492462875, 8975836.032122783, 8938537.673341513, 8901805.396352377, 8865670.62312071, 8830164.223772436, 8795309.312583825, 8761117.098379806, 8727584.980335822, 8694696.677922929, 8662424.263613285, 8630731.711116105, 8599579.26799212, 8568927.811702702, 8538742.414467791, 8508994.582590593, 8479662.962356128]\n"
     ]
    },
    {
     "name": "stderr",
     "output_type": "stream",
     "text": [
      "\r",
      " 69%|██████▉   | 69/100 [02:02<00:44,  1.44s/it]"
     ]
    },
    {
     "name": "stdout",
     "output_type": "stream",
     "text": [
      "[14428659.222999433, 12976263.509254532, 12150205.369988004, 11487554.301907709, 11030499.753017677, 10792925.485135127, 10694345.22396194, 10656270.827711038, 10640861.244591223, 10633920.266455343, 10630222.364395935, 10627741.810275564, 10625641.708421774, 10623543.007283304, 10621243.018771091, 10618601.15532016, 10615489.227290802, 10611766.976293406, 10607267.177520962, 10601783.8415404, 10595060.76660502, 10586779.320459414, 10576545.213085862, 10563874.749348648, 10548181.934942912, 10528769.057594853, 10504825.114990296, 10475438.712666523, 10439634.497545108, 10396443.899822587, 10345020.028792024, 10284800.019463554, 10215702.699368741, 10138324.326914797, 10054066.760496933, 9965118.28673719, 9874231.550693259, 9784316.538858281, 9697961.925280945, 9617051.0448454, 9542598.311931051, 9474818.603298008, 9413338.90820288, 9357435.088290734, 9306220.673729314, 9258774.395844651, 9214224.999999847, 9171811.175690277, 9130921.047594838, 9091107.947835488, 9052081.58444515, 9013680.492462875, 8975836.032122783, 8938537.673341513, 8901805.396352377, 8865670.62312071, 8830164.223772436, 8795309.312583825, 8761117.098379806, 8727584.980335822, 8694696.677922929, 8662424.263613285, 8630731.711116105, 8599579.26799212, 8568927.811702702, 8538742.414467791, 8508994.582590593, 8479662.962356128, 8450732.626673633]\n"
     ]
    },
    {
     "name": "stderr",
     "output_type": "stream",
     "text": [
      "\r",
      " 70%|███████   | 70/100 [02:04<00:43,  1.44s/it]"
     ]
    },
    {
     "name": "stdout",
     "output_type": "stream",
     "text": [
      "[14428659.222999433, 12976263.509254532, 12150205.369988004, 11487554.301907709, 11030499.753017677, 10792925.485135127, 10694345.22396194, 10656270.827711038, 10640861.244591223, 10633920.266455343, 10630222.364395935, 10627741.810275564, 10625641.708421774, 10623543.007283304, 10621243.018771091, 10618601.15532016, 10615489.227290802, 10611766.976293406, 10607267.177520962, 10601783.8415404, 10595060.76660502, 10586779.320459414, 10576545.213085862, 10563874.749348648, 10548181.934942912, 10528769.057594853, 10504825.114990296, 10475438.712666523, 10439634.497545108, 10396443.899822587, 10345020.028792024, 10284800.019463554, 10215702.699368741, 10138324.326914797, 10054066.760496933, 9965118.28673719, 9874231.550693259, 9784316.538858281, 9697961.925280945, 9617051.0448454, 9542598.311931051, 9474818.603298008, 9413338.90820288, 9357435.088290734, 9306220.673729314, 9258774.395844651, 9214224.999999847, 9171811.175690277, 9130921.047594838, 9091107.947835488, 9052081.58444515, 9013680.492462875, 8975836.032122783, 8938537.673341513, 8901805.396352377, 8865670.62312071, 8830164.223772436, 8795309.312583825, 8761117.098379806, 8727584.980335822, 8694696.677922929, 8662424.263613285, 8630731.711116105, 8599579.26799212, 8568927.811702702, 8538742.414467791, 8508994.582590593, 8479662.962356128, 8450732.626673633, 8422193.303894142]\n"
     ]
    },
    {
     "name": "stderr",
     "output_type": "stream",
     "text": [
      "\r",
      " 71%|███████   | 71/100 [02:05<00:41,  1.44s/it]"
     ]
    },
    {
     "name": "stdout",
     "output_type": "stream",
     "text": [
      "[14428659.222999433, 12976263.509254532, 12150205.369988004, 11487554.301907709, 11030499.753017677, 10792925.485135127, 10694345.22396194, 10656270.827711038, 10640861.244591223, 10633920.266455343, 10630222.364395935, 10627741.810275564, 10625641.708421774, 10623543.007283304, 10621243.018771091, 10618601.15532016, 10615489.227290802, 10611766.976293406, 10607267.177520962, 10601783.8415404, 10595060.76660502, 10586779.320459414, 10576545.213085862, 10563874.749348648, 10548181.934942912, 10528769.057594853, 10504825.114990296, 10475438.712666523, 10439634.497545108, 10396443.899822587, 10345020.028792024, 10284800.019463554, 10215702.699368741, 10138324.326914797, 10054066.760496933, 9965118.28673719, 9874231.550693259, 9784316.538858281, 9697961.925280945, 9617051.0448454, 9542598.311931051, 9474818.603298008, 9413338.90820288, 9357435.088290734, 9306220.673729314, 9258774.395844651, 9214224.999999847, 9171811.175690277, 9130921.047594838, 9091107.947835488, 9052081.58444515, 9013680.492462875, 8975836.032122783, 8938537.673341513, 8901805.396352377, 8865670.62312071, 8830164.223772436, 8795309.312583825, 8761117.098379806, 8727584.980335822, 8694696.677922929, 8662424.263613285, 8630731.711116105, 8599579.26799212, 8568927.811702702, 8538742.414467791, 8508994.582590593, 8479662.962356128, 8450732.626673633, 8422193.303894142, 8394037.042873118]\n"
     ]
    },
    {
     "name": "stderr",
     "output_type": "stream",
     "text": [
      "\r",
      " 72%|███████▏  | 72/100 [02:07<00:40,  1.45s/it]"
     ]
    },
    {
     "name": "stdout",
     "output_type": "stream",
     "text": [
      "[14428659.222999433, 12976263.509254532, 12150205.369988004, 11487554.301907709, 11030499.753017677, 10792925.485135127, 10694345.22396194, 10656270.827711038, 10640861.244591223, 10633920.266455343, 10630222.364395935, 10627741.810275564, 10625641.708421774, 10623543.007283304, 10621243.018771091, 10618601.15532016, 10615489.227290802, 10611766.976293406, 10607267.177520962, 10601783.8415404, 10595060.76660502, 10586779.320459414, 10576545.213085862, 10563874.749348648, 10548181.934942912, 10528769.057594853, 10504825.114990296, 10475438.712666523, 10439634.497545108, 10396443.899822587, 10345020.028792024, 10284800.019463554, 10215702.699368741, 10138324.326914797, 10054066.760496933, 9965118.28673719, 9874231.550693259, 9784316.538858281, 9697961.925280945, 9617051.0448454, 9542598.311931051, 9474818.603298008, 9413338.90820288, 9357435.088290734, 9306220.673729314, 9258774.395844651, 9214224.999999847, 9171811.175690277, 9130921.047594838, 9091107.947835488, 9052081.58444515, 9013680.492462875, 8975836.032122783, 8938537.673341513, 8901805.396352377, 8865670.62312071, 8830164.223772436, 8795309.312583825, 8761117.098379806, 8727584.980335822, 8694696.677922929, 8662424.263613285, 8630731.711116105, 8599579.26799212, 8568927.811702702, 8538742.414467791, 8508994.582590593, 8479662.962356128, 8450732.626673633, 8422193.303894142, 8394037.042873118, 8366255.81984582]\n"
     ]
    },
    {
     "name": "stderr",
     "output_type": "stream",
     "text": [
      "\r",
      " 73%|███████▎  | 73/100 [02:08<00:39,  1.45s/it]"
     ]
    },
    {
     "name": "stdout",
     "output_type": "stream",
     "text": [
      "[14428659.222999433, 12976263.509254532, 12150205.369988004, 11487554.301907709, 11030499.753017677, 10792925.485135127, 10694345.22396194, 10656270.827711038, 10640861.244591223, 10633920.266455343, 10630222.364395935, 10627741.810275564, 10625641.708421774, 10623543.007283304, 10621243.018771091, 10618601.15532016, 10615489.227290802, 10611766.976293406, 10607267.177520962, 10601783.8415404, 10595060.76660502, 10586779.320459414, 10576545.213085862, 10563874.749348648, 10548181.934942912, 10528769.057594853, 10504825.114990296, 10475438.712666523, 10439634.497545108, 10396443.899822587, 10345020.028792024, 10284800.019463554, 10215702.699368741, 10138324.326914797, 10054066.760496933, 9965118.28673719, 9874231.550693259, 9784316.538858281, 9697961.925280945, 9617051.0448454, 9542598.311931051, 9474818.603298008, 9413338.90820288, 9357435.088290734, 9306220.673729314, 9258774.395844651, 9214224.999999847, 9171811.175690277, 9130921.047594838, 9091107.947835488, 9052081.58444515, 9013680.492462875, 8975836.032122783, 8938537.673341513, 8901805.396352377, 8865670.62312071, 8830164.223772436, 8795309.312583825, 8761117.098379806, 8727584.980335822, 8694696.677922929, 8662424.263613285, 8630731.711116105, 8599579.26799212, 8568927.811702702, 8538742.414467791, 8508994.582590593, 8479662.962356128, 8450732.626673633, 8422193.303894142, 8394037.042873118, 8366255.81984582, 8338839.505228552]\n"
     ]
    },
    {
     "name": "stderr",
     "output_type": "stream",
     "text": [
      "\r",
      " 74%|███████▍  | 74/100 [02:10<00:37,  1.44s/it]"
     ]
    },
    {
     "name": "stdout",
     "output_type": "stream",
     "text": [
      "[14428659.222999433, 12976263.509254532, 12150205.369988004, 11487554.301907709, 11030499.753017677, 10792925.485135127, 10694345.22396194, 10656270.827711038, 10640861.244591223, 10633920.266455343, 10630222.364395935, 10627741.810275564, 10625641.708421774, 10623543.007283304, 10621243.018771091, 10618601.15532016, 10615489.227290802, 10611766.976293406, 10607267.177520962, 10601783.8415404, 10595060.76660502, 10586779.320459414, 10576545.213085862, 10563874.749348648, 10548181.934942912, 10528769.057594853, 10504825.114990296, 10475438.712666523, 10439634.497545108, 10396443.899822587, 10345020.028792024, 10284800.019463554, 10215702.699368741, 10138324.326914797, 10054066.760496933, 9965118.28673719, 9874231.550693259, 9784316.538858281, 9697961.925280945, 9617051.0448454, 9542598.311931051, 9474818.603298008, 9413338.90820288, 9357435.088290734, 9306220.673729314, 9258774.395844651, 9214224.999999847, 9171811.175690277, 9130921.047594838, 9091107.947835488, 9052081.58444515, 9013680.492462875, 8975836.032122783, 8938537.673341513, 8901805.396352377, 8865670.62312071, 8830164.223772436, 8795309.312583825, 8761117.098379806, 8727584.980335822, 8694696.677922929, 8662424.263613285, 8630731.711116105, 8599579.26799212, 8568927.811702702, 8538742.414467791, 8508994.582590593, 8479662.962356128, 8450732.626673633, 8422193.303894142, 8394037.042873118, 8366255.81984582, 8338839.505228552, 8311774.461942008]\n"
     ]
    },
    {
     "name": "stderr",
     "output_type": "stream",
     "text": [
      "\r",
      " 75%|███████▌  | 75/100 [02:11<00:36,  1.44s/it]"
     ]
    },
    {
     "name": "stdout",
     "output_type": "stream",
     "text": [
      "[14428659.222999433, 12976263.509254532, 12150205.369988004, 11487554.301907709, 11030499.753017677, 10792925.485135127, 10694345.22396194, 10656270.827711038, 10640861.244591223, 10633920.266455343, 10630222.364395935, 10627741.810275564, 10625641.708421774, 10623543.007283304, 10621243.018771091, 10618601.15532016, 10615489.227290802, 10611766.976293406, 10607267.177520962, 10601783.8415404, 10595060.76660502, 10586779.320459414, 10576545.213085862, 10563874.749348648, 10548181.934942912, 10528769.057594853, 10504825.114990296, 10475438.712666523, 10439634.497545108, 10396443.899822587, 10345020.028792024, 10284800.019463554, 10215702.699368741, 10138324.326914797, 10054066.760496933, 9965118.28673719, 9874231.550693259, 9784316.538858281, 9697961.925280945, 9617051.0448454, 9542598.311931051, 9474818.603298008, 9413338.90820288, 9357435.088290734, 9306220.673729314, 9258774.395844651, 9214224.999999847, 9171811.175690277, 9130921.047594838, 9091107.947835488, 9052081.58444515, 9013680.492462875, 8975836.032122783, 8938537.673341513, 8901805.396352377, 8865670.62312071, 8830164.223772436, 8795309.312583825, 8761117.098379806, 8727584.980335822, 8694696.677922929, 8662424.263613285, 8630731.711116105, 8599579.26799212, 8568927.811702702, 8538742.414467791, 8508994.582590593, 8479662.962356128, 8450732.626673633, 8422193.303894142, 8394037.042873118, 8366255.81984582, 8338839.505228552, 8311774.461942008, 8285042.885098852]\n"
     ]
    },
    {
     "name": "stderr",
     "output_type": "stream",
     "text": [
      "\r",
      " 76%|███████▌  | 76/100 [02:13<00:34,  1.45s/it]"
     ]
    },
    {
     "name": "stdout",
     "output_type": "stream",
     "text": [
      "[14428659.222999433, 12976263.509254532, 12150205.369988004, 11487554.301907709, 11030499.753017677, 10792925.485135127, 10694345.22396194, 10656270.827711038, 10640861.244591223, 10633920.266455343, 10630222.364395935, 10627741.810275564, 10625641.708421774, 10623543.007283304, 10621243.018771091, 10618601.15532016, 10615489.227290802, 10611766.976293406, 10607267.177520962, 10601783.8415404, 10595060.76660502, 10586779.320459414, 10576545.213085862, 10563874.749348648, 10548181.934942912, 10528769.057594853, 10504825.114990296, 10475438.712666523, 10439634.497545108, 10396443.899822587, 10345020.028792024, 10284800.019463554, 10215702.699368741, 10138324.326914797, 10054066.760496933, 9965118.28673719, 9874231.550693259, 9784316.538858281, 9697961.925280945, 9617051.0448454, 9542598.311931051, 9474818.603298008, 9413338.90820288, 9357435.088290734, 9306220.673729314, 9258774.395844651, 9214224.999999847, 9171811.175690277, 9130921.047594838, 9091107.947835488, 9052081.58444515, 9013680.492462875, 8975836.032122783, 8938537.673341513, 8901805.396352377, 8865670.62312071, 8830164.223772436, 8795309.312583825, 8761117.098379806, 8727584.980335822, 8694696.677922929, 8662424.263613285, 8630731.711116105, 8599579.26799212, 8568927.811702702, 8538742.414467791, 8508994.582590593, 8479662.962356128, 8450732.626673633, 8422193.303894142, 8394037.042873118, 8366255.81984582, 8338839.505228552, 8311774.461942008, 8285042.885098852, 8258622.85184287]\n"
     ]
    },
    {
     "name": "stderr",
     "output_type": "stream",
     "text": [
      "\r",
      " 77%|███████▋  | 77/100 [02:14<00:35,  1.53s/it]"
     ]
    },
    {
     "name": "stdout",
     "output_type": "stream",
     "text": [
      "[14428659.222999433, 12976263.509254532, 12150205.369988004, 11487554.301907709, 11030499.753017677, 10792925.485135127, 10694345.22396194, 10656270.827711038, 10640861.244591223, 10633920.266455343, 10630222.364395935, 10627741.810275564, 10625641.708421774, 10623543.007283304, 10621243.018771091, 10618601.15532016, 10615489.227290802, 10611766.976293406, 10607267.177520962, 10601783.8415404, 10595060.76660502, 10586779.320459414, 10576545.213085862, 10563874.749348648, 10548181.934942912, 10528769.057594853, 10504825.114990296, 10475438.712666523, 10439634.497545108, 10396443.899822587, 10345020.028792024, 10284800.019463554, 10215702.699368741, 10138324.326914797, 10054066.760496933, 9965118.28673719, 9874231.550693259, 9784316.538858281, 9697961.925280945, 9617051.0448454, 9542598.311931051, 9474818.603298008, 9413338.90820288, 9357435.088290734, 9306220.673729314, 9258774.395844651, 9214224.999999847, 9171811.175690277, 9130921.047594838, 9091107.947835488, 9052081.58444515, 9013680.492462875, 8975836.032122783, 8938537.673341513, 8901805.396352377, 8865670.62312071, 8830164.223772436, 8795309.312583825, 8761117.098379806, 8727584.980335822, 8694696.677922929, 8662424.263613285, 8630731.711116105, 8599579.26799212, 8568927.811702702, 8538742.414467791, 8508994.582590593, 8479662.962356128, 8450732.626673633, 8422193.303894142, 8394037.042873118, 8366255.81984582, 8338839.505228552, 8311774.461942008, 8285042.885098852, 8258622.85184287, 8232488.951200942]\n"
     ]
    },
    {
     "name": "stderr",
     "output_type": "stream",
     "text": [
      "\r",
      " 78%|███████▊  | 78/100 [02:16<00:33,  1.54s/it]"
     ]
    },
    {
     "name": "stdout",
     "output_type": "stream",
     "text": [
      "[14428659.222999433, 12976263.509254532, 12150205.369988004, 11487554.301907709, 11030499.753017677, 10792925.485135127, 10694345.22396194, 10656270.827711038, 10640861.244591223, 10633920.266455343, 10630222.364395935, 10627741.810275564, 10625641.708421774, 10623543.007283304, 10621243.018771091, 10618601.15532016, 10615489.227290802, 10611766.976293406, 10607267.177520962, 10601783.8415404, 10595060.76660502, 10586779.320459414, 10576545.213085862, 10563874.749348648, 10548181.934942912, 10528769.057594853, 10504825.114990296, 10475438.712666523, 10439634.497545108, 10396443.899822587, 10345020.028792024, 10284800.019463554, 10215702.699368741, 10138324.326914797, 10054066.760496933, 9965118.28673719, 9874231.550693259, 9784316.538858281, 9697961.925280945, 9617051.0448454, 9542598.311931051, 9474818.603298008, 9413338.90820288, 9357435.088290734, 9306220.673729314, 9258774.395844651, 9214224.999999847, 9171811.175690277, 9130921.047594838, 9091107.947835488, 9052081.58444515, 9013680.492462875, 8975836.032122783, 8938537.673341513, 8901805.396352377, 8865670.62312071, 8830164.223772436, 8795309.312583825, 8761117.098379806, 8727584.980335822, 8694696.677922929, 8662424.263613285, 8630731.711116105, 8599579.26799212, 8568927.811702702, 8538742.414467791, 8508994.582590593, 8479662.962356128, 8450732.626673633, 8422193.303894142, 8394037.042873118, 8366255.81984582, 8338839.505228552, 8311774.461942008, 8285042.885098852, 8258622.85184287, 8232488.951200942, 8206613.31311397]\n"
     ]
    },
    {
     "name": "stderr",
     "output_type": "stream",
     "text": [
      "\r",
      " 79%|███████▉  | 79/100 [02:17<00:31,  1.51s/it]"
     ]
    },
    {
     "name": "stdout",
     "output_type": "stream",
     "text": [
      "[14428659.222999433, 12976263.509254532, 12150205.369988004, 11487554.301907709, 11030499.753017677, 10792925.485135127, 10694345.22396194, 10656270.827711038, 10640861.244591223, 10633920.266455343, 10630222.364395935, 10627741.810275564, 10625641.708421774, 10623543.007283304, 10621243.018771091, 10618601.15532016, 10615489.227290802, 10611766.976293406, 10607267.177520962, 10601783.8415404, 10595060.76660502, 10586779.320459414, 10576545.213085862, 10563874.749348648, 10548181.934942912, 10528769.057594853, 10504825.114990296, 10475438.712666523, 10439634.497545108, 10396443.899822587, 10345020.028792024, 10284800.019463554, 10215702.699368741, 10138324.326914797, 10054066.760496933, 9965118.28673719, 9874231.550693259, 9784316.538858281, 9697961.925280945, 9617051.0448454, 9542598.311931051, 9474818.603298008, 9413338.90820288, 9357435.088290734, 9306220.673729314, 9258774.395844651, 9214224.999999847, 9171811.175690277, 9130921.047594838, 9091107.947835488, 9052081.58444515, 9013680.492462875, 8975836.032122783, 8938537.673341513, 8901805.396352377, 8865670.62312071, 8830164.223772436, 8795309.312583825, 8761117.098379806, 8727584.980335822, 8694696.677922929, 8662424.263613285, 8630731.711116105, 8599579.26799212, 8568927.811702702, 8538742.414467791, 8508994.582590593, 8479662.962356128, 8450732.626673633, 8422193.303894142, 8394037.042873118, 8366255.81984582, 8338839.505228552, 8311774.461942008, 8285042.885098852, 8258622.85184287, 8232488.951200942, 8206613.31311397, 8180966.847543757]\n"
     ]
    },
    {
     "name": "stderr",
     "output_type": "stream",
     "text": [
      "\r",
      " 80%|████████  | 80/100 [02:19<00:29,  1.49s/it]"
     ]
    },
    {
     "name": "stdout",
     "output_type": "stream",
     "text": [
      "[14428659.222999433, 12976263.509254532, 12150205.369988004, 11487554.301907709, 11030499.753017677, 10792925.485135127, 10694345.22396194, 10656270.827711038, 10640861.244591223, 10633920.266455343, 10630222.364395935, 10627741.810275564, 10625641.708421774, 10623543.007283304, 10621243.018771091, 10618601.15532016, 10615489.227290802, 10611766.976293406, 10607267.177520962, 10601783.8415404, 10595060.76660502, 10586779.320459414, 10576545.213085862, 10563874.749348648, 10548181.934942912, 10528769.057594853, 10504825.114990296, 10475438.712666523, 10439634.497545108, 10396443.899822587, 10345020.028792024, 10284800.019463554, 10215702.699368741, 10138324.326914797, 10054066.760496933, 9965118.28673719, 9874231.550693259, 9784316.538858281, 9697961.925280945, 9617051.0448454, 9542598.311931051, 9474818.603298008, 9413338.90820288, 9357435.088290734, 9306220.673729314, 9258774.395844651, 9214224.999999847, 9171811.175690277, 9130921.047594838, 9091107.947835488, 9052081.58444515, 9013680.492462875, 8975836.032122783, 8938537.673341513, 8901805.396352377, 8865670.62312071, 8830164.223772436, 8795309.312583825, 8761117.098379806, 8727584.980335822, 8694696.677922929, 8662424.263613285, 8630731.711116105, 8599579.26799212, 8568927.811702702, 8538742.414467791, 8508994.582590593, 8479662.962356128, 8450732.626673633, 8422193.303894142, 8394037.042873118, 8366255.81984582, 8338839.505228552, 8311774.461942008, 8285042.885098852, 8258622.85184287, 8232488.951200942, 8206613.31311397, 8180966.847543757, 8155520.526287071]\n"
     ]
    },
    {
     "name": "stderr",
     "output_type": "stream",
     "text": [
      "\r",
      " 81%|████████  | 81/100 [02:20<00:28,  1.48s/it]"
     ]
    },
    {
     "name": "stdout",
     "output_type": "stream",
     "text": [
      "[14428659.222999433, 12976263.509254532, 12150205.369988004, 11487554.301907709, 11030499.753017677, 10792925.485135127, 10694345.22396194, 10656270.827711038, 10640861.244591223, 10633920.266455343, 10630222.364395935, 10627741.810275564, 10625641.708421774, 10623543.007283304, 10621243.018771091, 10618601.15532016, 10615489.227290802, 10611766.976293406, 10607267.177520962, 10601783.8415404, 10595060.76660502, 10586779.320459414, 10576545.213085862, 10563874.749348648, 10548181.934942912, 10528769.057594853, 10504825.114990296, 10475438.712666523, 10439634.497545108, 10396443.899822587, 10345020.028792024, 10284800.019463554, 10215702.699368741, 10138324.326914797, 10054066.760496933, 9965118.28673719, 9874231.550693259, 9784316.538858281, 9697961.925280945, 9617051.0448454, 9542598.311931051, 9474818.603298008, 9413338.90820288, 9357435.088290734, 9306220.673729314, 9258774.395844651, 9214224.999999847, 9171811.175690277, 9130921.047594838, 9091107.947835488, 9052081.58444515, 9013680.492462875, 8975836.032122783, 8938537.673341513, 8901805.396352377, 8865670.62312071, 8830164.223772436, 8795309.312583825, 8761117.098379806, 8727584.980335822, 8694696.677922929, 8662424.263613285, 8630731.711116105, 8599579.26799212, 8568927.811702702, 8538742.414467791, 8508994.582590593, 8479662.962356128, 8450732.626673633, 8422193.303894142, 8394037.042873118, 8366255.81984582, 8338839.505228552, 8311774.461942008, 8285042.885098852, 8258622.85184287, 8232488.951200942, 8206613.31311397, 8180966.847543757, 8155520.526287071, 8130246.577889615]\n"
     ]
    },
    {
     "name": "stderr",
     "output_type": "stream",
     "text": [
      "\r",
      " 82%|████████▏ | 82/100 [02:22<00:26,  1.48s/it]"
     ]
    },
    {
     "name": "stdout",
     "output_type": "stream",
     "text": [
      "[14428659.222999433, 12976263.509254532, 12150205.369988004, 11487554.301907709, 11030499.753017677, 10792925.485135127, 10694345.22396194, 10656270.827711038, 10640861.244591223, 10633920.266455343, 10630222.364395935, 10627741.810275564, 10625641.708421774, 10623543.007283304, 10621243.018771091, 10618601.15532016, 10615489.227290802, 10611766.976293406, 10607267.177520962, 10601783.8415404, 10595060.76660502, 10586779.320459414, 10576545.213085862, 10563874.749348648, 10548181.934942912, 10528769.057594853, 10504825.114990296, 10475438.712666523, 10439634.497545108, 10396443.899822587, 10345020.028792024, 10284800.019463554, 10215702.699368741, 10138324.326914797, 10054066.760496933, 9965118.28673719, 9874231.550693259, 9784316.538858281, 9697961.925280945, 9617051.0448454, 9542598.311931051, 9474818.603298008, 9413338.90820288, 9357435.088290734, 9306220.673729314, 9258774.395844651, 9214224.999999847, 9171811.175690277, 9130921.047594838, 9091107.947835488, 9052081.58444515, 9013680.492462875, 8975836.032122783, 8938537.673341513, 8901805.396352377, 8865670.62312071, 8830164.223772436, 8795309.312583825, 8761117.098379806, 8727584.980335822, 8694696.677922929, 8662424.263613285, 8630731.711116105, 8599579.26799212, 8568927.811702702, 8538742.414467791, 8508994.582590593, 8479662.962356128, 8450732.626673633, 8422193.303894142, 8394037.042873118, 8366255.81984582, 8338839.505228552, 8311774.461942008, 8285042.885098852, 8258622.85184287, 8232488.951200942, 8206613.31311397, 8180966.847543757, 8155520.526287071, 8130246.577889615, 8105119.507942645]\n"
     ]
    },
    {
     "name": "stderr",
     "output_type": "stream",
     "text": [
      "\r",
      " 83%|████████▎ | 83/100 [02:23<00:24,  1.47s/it]"
     ]
    },
    {
     "name": "stdout",
     "output_type": "stream",
     "text": [
      "[14428659.222999433, 12976263.509254532, 12150205.369988004, 11487554.301907709, 11030499.753017677, 10792925.485135127, 10694345.22396194, 10656270.827711038, 10640861.244591223, 10633920.266455343, 10630222.364395935, 10627741.810275564, 10625641.708421774, 10623543.007283304, 10621243.018771091, 10618601.15532016, 10615489.227290802, 10611766.976293406, 10607267.177520962, 10601783.8415404, 10595060.76660502, 10586779.320459414, 10576545.213085862, 10563874.749348648, 10548181.934942912, 10528769.057594853, 10504825.114990296, 10475438.712666523, 10439634.497545108, 10396443.899822587, 10345020.028792024, 10284800.019463554, 10215702.699368741, 10138324.326914797, 10054066.760496933, 9965118.28673719, 9874231.550693259, 9784316.538858281, 9697961.925280945, 9617051.0448454, 9542598.311931051, 9474818.603298008, 9413338.90820288, 9357435.088290734, 9306220.673729314, 9258774.395844651, 9214224.999999847, 9171811.175690277, 9130921.047594838, 9091107.947835488, 9052081.58444515, 9013680.492462875, 8975836.032122783, 8938537.673341513, 8901805.396352377, 8865670.62312071, 8830164.223772436, 8795309.312583825, 8761117.098379806, 8727584.980335822, 8694696.677922929, 8662424.263613285, 8630731.711116105, 8599579.26799212, 8568927.811702702, 8538742.414467791, 8508994.582590593, 8479662.962356128, 8450732.626673633, 8422193.303894142, 8394037.042873118, 8366255.81984582, 8338839.505228552, 8311774.461942008, 8285042.885098852, 8258622.85184287, 8232488.951200942, 8206613.31311397, 8180966.847543757, 8155520.526287071, 8130246.577889615, 8105119.507942645, 8080116.895032233]\n"
     ]
    },
    {
     "name": "stderr",
     "output_type": "stream",
     "text": [
      "\r",
      " 84%|████████▍ | 84/100 [02:24<00:23,  1.46s/it]"
     ]
    },
    {
     "name": "stdout",
     "output_type": "stream",
     "text": [
      "[14428659.222999433, 12976263.509254532, 12150205.369988004, 11487554.301907709, 11030499.753017677, 10792925.485135127, 10694345.22396194, 10656270.827711038, 10640861.244591223, 10633920.266455343, 10630222.364395935, 10627741.810275564, 10625641.708421774, 10623543.007283304, 10621243.018771091, 10618601.15532016, 10615489.227290802, 10611766.976293406, 10607267.177520962, 10601783.8415404, 10595060.76660502, 10586779.320459414, 10576545.213085862, 10563874.749348648, 10548181.934942912, 10528769.057594853, 10504825.114990296, 10475438.712666523, 10439634.497545108, 10396443.899822587, 10345020.028792024, 10284800.019463554, 10215702.699368741, 10138324.326914797, 10054066.760496933, 9965118.28673719, 9874231.550693259, 9784316.538858281, 9697961.925280945, 9617051.0448454, 9542598.311931051, 9474818.603298008, 9413338.90820288, 9357435.088290734, 9306220.673729314, 9258774.395844651, 9214224.999999847, 9171811.175690277, 9130921.047594838, 9091107.947835488, 9052081.58444515, 9013680.492462875, 8975836.032122783, 8938537.673341513, 8901805.396352377, 8865670.62312071, 8830164.223772436, 8795309.312583825, 8761117.098379806, 8727584.980335822, 8694696.677922929, 8662424.263613285, 8630731.711116105, 8599579.26799212, 8568927.811702702, 8538742.414467791, 8508994.582590593, 8479662.962356128, 8450732.626673633, 8422193.303894142, 8394037.042873118, 8366255.81984582, 8338839.505228552, 8311774.461942008, 8285042.885098852, 8258622.85184287, 8232488.951200942, 8206613.31311397, 8180966.847543757, 8155520.526287071, 8130246.577889615, 8105119.507942645, 8080116.895032233, 8055219.942753145]\n"
     ]
    },
    {
     "name": "stderr",
     "output_type": "stream",
     "text": [
      "\r",
      " 85%|████████▌ | 85/100 [02:26<00:22,  1.50s/it]"
     ]
    },
    {
     "name": "stdout",
     "output_type": "stream",
     "text": [
      "[14428659.222999433, 12976263.509254532, 12150205.369988004, 11487554.301907709, 11030499.753017677, 10792925.485135127, 10694345.22396194, 10656270.827711038, 10640861.244591223, 10633920.266455343, 10630222.364395935, 10627741.810275564, 10625641.708421774, 10623543.007283304, 10621243.018771091, 10618601.15532016, 10615489.227290802, 10611766.976293406, 10607267.177520962, 10601783.8415404, 10595060.76660502, 10586779.320459414, 10576545.213085862, 10563874.749348648, 10548181.934942912, 10528769.057594853, 10504825.114990296, 10475438.712666523, 10439634.497545108, 10396443.899822587, 10345020.028792024, 10284800.019463554, 10215702.699368741, 10138324.326914797, 10054066.760496933, 9965118.28673719, 9874231.550693259, 9784316.538858281, 9697961.925280945, 9617051.0448454, 9542598.311931051, 9474818.603298008, 9413338.90820288, 9357435.088290734, 9306220.673729314, 9258774.395844651, 9214224.999999847, 9171811.175690277, 9130921.047594838, 9091107.947835488, 9052081.58444515, 9013680.492462875, 8975836.032122783, 8938537.673341513, 8901805.396352377, 8865670.62312071, 8830164.223772436, 8795309.312583825, 8761117.098379806, 8727584.980335822, 8694696.677922929, 8662424.263613285, 8630731.711116105, 8599579.26799212, 8568927.811702702, 8538742.414467791, 8508994.582590593, 8479662.962356128, 8450732.626673633, 8422193.303894142, 8394037.042873118, 8366255.81984582, 8338839.505228552, 8311774.461942008, 8285042.885098852, 8258622.85184287, 8232488.951200942, 8206613.31311397, 8180966.847543757, 8155520.526287071, 8130246.577889615, 8105119.507942645, 8080116.895032233, 8055219.942753145, 8030413.789817831]\n"
     ]
    },
    {
     "name": "stderr",
     "output_type": "stream",
     "text": [
      "\r",
      " 86%|████████▌ | 86/100 [02:28<00:21,  1.51s/it]"
     ]
    },
    {
     "name": "stdout",
     "output_type": "stream",
     "text": [
      "[14428659.222999433, 12976263.509254532, 12150205.369988004, 11487554.301907709, 11030499.753017677, 10792925.485135127, 10694345.22396194, 10656270.827711038, 10640861.244591223, 10633920.266455343, 10630222.364395935, 10627741.810275564, 10625641.708421774, 10623543.007283304, 10621243.018771091, 10618601.15532016, 10615489.227290802, 10611766.976293406, 10607267.177520962, 10601783.8415404, 10595060.76660502, 10586779.320459414, 10576545.213085862, 10563874.749348648, 10548181.934942912, 10528769.057594853, 10504825.114990296, 10475438.712666523, 10439634.497545108, 10396443.899822587, 10345020.028792024, 10284800.019463554, 10215702.699368741, 10138324.326914797, 10054066.760496933, 9965118.28673719, 9874231.550693259, 9784316.538858281, 9697961.925280945, 9617051.0448454, 9542598.311931051, 9474818.603298008, 9413338.90820288, 9357435.088290734, 9306220.673729314, 9258774.395844651, 9214224.999999847, 9171811.175690277, 9130921.047594838, 9091107.947835488, 9052081.58444515, 9013680.492462875, 8975836.032122783, 8938537.673341513, 8901805.396352377, 8865670.62312071, 8830164.223772436, 8795309.312583825, 8761117.098379806, 8727584.980335822, 8694696.677922929, 8662424.263613285, 8630731.711116105, 8599579.26799212, 8568927.811702702, 8538742.414467791, 8508994.582590593, 8479662.962356128, 8450732.626673633, 8422193.303894142, 8394037.042873118, 8366255.81984582, 8338839.505228552, 8311774.461942008, 8285042.885098852, 8258622.85184287, 8232488.951200942, 8206613.31311397, 8180966.847543757, 8155520.526287071, 8130246.577889615, 8105119.507942645, 8080116.895032233, 8055219.942753145, 8030413.789817831, 8005687.5946945865]\n"
     ]
    },
    {
     "name": "stderr",
     "output_type": "stream",
     "text": [
      "\r",
      " 87%|████████▋ | 87/100 [02:29<00:19,  1.50s/it]"
     ]
    },
    {
     "name": "stdout",
     "output_type": "stream",
     "text": [
      "[14428659.222999433, 12976263.509254532, 12150205.369988004, 11487554.301907709, 11030499.753017677, 10792925.485135127, 10694345.22396194, 10656270.827711038, 10640861.244591223, 10633920.266455343, 10630222.364395935, 10627741.810275564, 10625641.708421774, 10623543.007283304, 10621243.018771091, 10618601.15532016, 10615489.227290802, 10611766.976293406, 10607267.177520962, 10601783.8415404, 10595060.76660502, 10586779.320459414, 10576545.213085862, 10563874.749348648, 10548181.934942912, 10528769.057594853, 10504825.114990296, 10475438.712666523, 10439634.497545108, 10396443.899822587, 10345020.028792024, 10284800.019463554, 10215702.699368741, 10138324.326914797, 10054066.760496933, 9965118.28673719, 9874231.550693259, 9784316.538858281, 9697961.925280945, 9617051.0448454, 9542598.311931051, 9474818.603298008, 9413338.90820288, 9357435.088290734, 9306220.673729314, 9258774.395844651, 9214224.999999847, 9171811.175690277, 9130921.047594838, 9091107.947835488, 9052081.58444515, 9013680.492462875, 8975836.032122783, 8938537.673341513, 8901805.396352377, 8865670.62312071, 8830164.223772436, 8795309.312583825, 8761117.098379806, 8727584.980335822, 8694696.677922929, 8662424.263613285, 8630731.711116105, 8599579.26799212, 8568927.811702702, 8538742.414467791, 8508994.582590593, 8479662.962356128, 8450732.626673633, 8422193.303894142, 8394037.042873118, 8366255.81984582, 8338839.505228552, 8311774.461942008, 8285042.885098852, 8258622.85184287, 8232488.951200942, 8206613.31311397, 8180966.847543757, 8155520.526287071, 8130246.577889615, 8105119.507942645, 8080116.895032233, 8055219.942753145, 8030413.789817831, 8005687.5946945865, 7981034.420459711]\n"
     ]
    },
    {
     "name": "stderr",
     "output_type": "stream",
     "text": [
      "\r",
      " 88%|████████▊ | 88/100 [02:31<00:17,  1.49s/it]"
     ]
    },
    {
     "name": "stdout",
     "output_type": "stream",
     "text": [
      "[14428659.222999433, 12976263.509254532, 12150205.369988004, 11487554.301907709, 11030499.753017677, 10792925.485135127, 10694345.22396194, 10656270.827711038, 10640861.244591223, 10633920.266455343, 10630222.364395935, 10627741.810275564, 10625641.708421774, 10623543.007283304, 10621243.018771091, 10618601.15532016, 10615489.227290802, 10611766.976293406, 10607267.177520962, 10601783.8415404, 10595060.76660502, 10586779.320459414, 10576545.213085862, 10563874.749348648, 10548181.934942912, 10528769.057594853, 10504825.114990296, 10475438.712666523, 10439634.497545108, 10396443.899822587, 10345020.028792024, 10284800.019463554, 10215702.699368741, 10138324.326914797, 10054066.760496933, 9965118.28673719, 9874231.550693259, 9784316.538858281, 9697961.925280945, 9617051.0448454, 9542598.311931051, 9474818.603298008, 9413338.90820288, 9357435.088290734, 9306220.673729314, 9258774.395844651, 9214224.999999847, 9171811.175690277, 9130921.047594838, 9091107.947835488, 9052081.58444515, 9013680.492462875, 8975836.032122783, 8938537.673341513, 8901805.396352377, 8865670.62312071, 8830164.223772436, 8795309.312583825, 8761117.098379806, 8727584.980335822, 8694696.677922929, 8662424.263613285, 8630731.711116105, 8599579.26799212, 8568927.811702702, 8538742.414467791, 8508994.582590593, 8479662.962356128, 8450732.626673633, 8422193.303894142, 8394037.042873118, 8366255.81984582, 8338839.505228552, 8311774.461942008, 8285042.885098852, 8258622.85184287, 8232488.951200942, 8206613.31311397, 8180966.847543757, 8155520.526287071, 8130246.577889615, 8105119.507942645, 8080116.895032233, 8055219.942753145, 8030413.789817831, 8005687.5946945865, 7981034.420459711, 7956450.951511057]\n"
     ]
    },
    {
     "name": "stderr",
     "output_type": "stream",
     "text": [
      "\r",
      " 89%|████████▉ | 89/100 [02:32<00:16,  1.48s/it]"
     ]
    },
    {
     "name": "stdout",
     "output_type": "stream",
     "text": [
      "[14428659.222999433, 12976263.509254532, 12150205.369988004, 11487554.301907709, 11030499.753017677, 10792925.485135127, 10694345.22396194, 10656270.827711038, 10640861.244591223, 10633920.266455343, 10630222.364395935, 10627741.810275564, 10625641.708421774, 10623543.007283304, 10621243.018771091, 10618601.15532016, 10615489.227290802, 10611766.976293406, 10607267.177520962, 10601783.8415404, 10595060.76660502, 10586779.320459414, 10576545.213085862, 10563874.749348648, 10548181.934942912, 10528769.057594853, 10504825.114990296, 10475438.712666523, 10439634.497545108, 10396443.899822587, 10345020.028792024, 10284800.019463554, 10215702.699368741, 10138324.326914797, 10054066.760496933, 9965118.28673719, 9874231.550693259, 9784316.538858281, 9697961.925280945, 9617051.0448454, 9542598.311931051, 9474818.603298008, 9413338.90820288, 9357435.088290734, 9306220.673729314, 9258774.395844651, 9214224.999999847, 9171811.175690277, 9130921.047594838, 9091107.947835488, 9052081.58444515, 9013680.492462875, 8975836.032122783, 8938537.673341513, 8901805.396352377, 8865670.62312071, 8830164.223772436, 8795309.312583825, 8761117.098379806, 8727584.980335822, 8694696.677922929, 8662424.263613285, 8630731.711116105, 8599579.26799212, 8568927.811702702, 8538742.414467791, 8508994.582590593, 8479662.962356128, 8450732.626673633, 8422193.303894142, 8394037.042873118, 8366255.81984582, 8338839.505228552, 8311774.461942008, 8285042.885098852, 8258622.85184287, 8232488.951200942, 8206613.31311397, 8180966.847543757, 8155520.526287071, 8130246.577889615, 8105119.507942645, 8080116.895032233, 8055219.942753145, 8030413.789817831, 8005687.5946945865, 7981034.420459711, 7956450.951511057, 7931937.077693354]\n"
     ]
    },
    {
     "name": "stderr",
     "output_type": "stream",
     "text": [
      "\r",
      " 90%|█████████ | 90/100 [02:33<00:14,  1.47s/it]"
     ]
    },
    {
     "name": "stdout",
     "output_type": "stream",
     "text": [
      "[14428659.222999433, 12976263.509254532, 12150205.369988004, 11487554.301907709, 11030499.753017677, 10792925.485135127, 10694345.22396194, 10656270.827711038, 10640861.244591223, 10633920.266455343, 10630222.364395935, 10627741.810275564, 10625641.708421774, 10623543.007283304, 10621243.018771091, 10618601.15532016, 10615489.227290802, 10611766.976293406, 10607267.177520962, 10601783.8415404, 10595060.76660502, 10586779.320459414, 10576545.213085862, 10563874.749348648, 10548181.934942912, 10528769.057594853, 10504825.114990296, 10475438.712666523, 10439634.497545108, 10396443.899822587, 10345020.028792024, 10284800.019463554, 10215702.699368741, 10138324.326914797, 10054066.760496933, 9965118.28673719, 9874231.550693259, 9784316.538858281, 9697961.925280945, 9617051.0448454, 9542598.311931051, 9474818.603298008, 9413338.90820288, 9357435.088290734, 9306220.673729314, 9258774.395844651, 9214224.999999847, 9171811.175690277, 9130921.047594838, 9091107.947835488, 9052081.58444515, 9013680.492462875, 8975836.032122783, 8938537.673341513, 8901805.396352377, 8865670.62312071, 8830164.223772436, 8795309.312583825, 8761117.098379806, 8727584.980335822, 8694696.677922929, 8662424.263613285, 8630731.711116105, 8599579.26799212, 8568927.811702702, 8538742.414467791, 8508994.582590593, 8479662.962356128, 8450732.626673633, 8422193.303894142, 8394037.042873118, 8366255.81984582, 8338839.505228552, 8311774.461942008, 8285042.885098852, 8258622.85184287, 8232488.951200942, 8206613.31311397, 8180966.847543757, 8155520.526287071, 8130246.577889615, 8105119.507942645, 8080116.895032233, 8055219.942753145, 8030413.789817831, 8005687.5946945865, 7981034.420459711, 7956450.951511057, 7931937.077693354, 7907495.383702843]\n"
     ]
    },
    {
     "name": "stderr",
     "output_type": "stream",
     "text": [
      "\r",
      " 91%|█████████ | 91/100 [02:35<00:13,  1.46s/it]"
     ]
    },
    {
     "name": "stdout",
     "output_type": "stream",
     "text": [
      "[14428659.222999433, 12976263.509254532, 12150205.369988004, 11487554.301907709, 11030499.753017677, 10792925.485135127, 10694345.22396194, 10656270.827711038, 10640861.244591223, 10633920.266455343, 10630222.364395935, 10627741.810275564, 10625641.708421774, 10623543.007283304, 10621243.018771091, 10618601.15532016, 10615489.227290802, 10611766.976293406, 10607267.177520962, 10601783.8415404, 10595060.76660502, 10586779.320459414, 10576545.213085862, 10563874.749348648, 10548181.934942912, 10528769.057594853, 10504825.114990296, 10475438.712666523, 10439634.497545108, 10396443.899822587, 10345020.028792024, 10284800.019463554, 10215702.699368741, 10138324.326914797, 10054066.760496933, 9965118.28673719, 9874231.550693259, 9784316.538858281, 9697961.925280945, 9617051.0448454, 9542598.311931051, 9474818.603298008, 9413338.90820288, 9357435.088290734, 9306220.673729314, 9258774.395844651, 9214224.999999847, 9171811.175690277, 9130921.047594838, 9091107.947835488, 9052081.58444515, 9013680.492462875, 8975836.032122783, 8938537.673341513, 8901805.396352377, 8865670.62312071, 8830164.223772436, 8795309.312583825, 8761117.098379806, 8727584.980335822, 8694696.677922929, 8662424.263613285, 8630731.711116105, 8599579.26799212, 8568927.811702702, 8538742.414467791, 8508994.582590593, 8479662.962356128, 8450732.626673633, 8422193.303894142, 8394037.042873118, 8366255.81984582, 8338839.505228552, 8311774.461942008, 8285042.885098852, 8258622.85184287, 8232488.951200942, 8206613.31311397, 8180966.847543757, 8155520.526287071, 8130246.577889615, 8105119.507942645, 8080116.895032233, 8055219.942753145, 8030413.789817831, 8005687.5946945865, 7981034.420459711, 7956450.951511057, 7931937.077693354, 7907495.383702843, 7883130.582327518]\n"
     ]
    },
    {
     "name": "stderr",
     "output_type": "stream",
     "text": [
      "\r",
      " 92%|█████████▏| 92/100 [02:36<00:11,  1.47s/it]"
     ]
    },
    {
     "name": "stdout",
     "output_type": "stream",
     "text": [
      "[14428659.222999433, 12976263.509254532, 12150205.369988004, 11487554.301907709, 11030499.753017677, 10792925.485135127, 10694345.22396194, 10656270.827711038, 10640861.244591223, 10633920.266455343, 10630222.364395935, 10627741.810275564, 10625641.708421774, 10623543.007283304, 10621243.018771091, 10618601.15532016, 10615489.227290802, 10611766.976293406, 10607267.177520962, 10601783.8415404, 10595060.76660502, 10586779.320459414, 10576545.213085862, 10563874.749348648, 10548181.934942912, 10528769.057594853, 10504825.114990296, 10475438.712666523, 10439634.497545108, 10396443.899822587, 10345020.028792024, 10284800.019463554, 10215702.699368741, 10138324.326914797, 10054066.760496933, 9965118.28673719, 9874231.550693259, 9784316.538858281, 9697961.925280945, 9617051.0448454, 9542598.311931051, 9474818.603298008, 9413338.90820288, 9357435.088290734, 9306220.673729314, 9258774.395844651, 9214224.999999847, 9171811.175690277, 9130921.047594838, 9091107.947835488, 9052081.58444515, 9013680.492462875, 8975836.032122783, 8938537.673341513, 8901805.396352377, 8865670.62312071, 8830164.223772436, 8795309.312583825, 8761117.098379806, 8727584.980335822, 8694696.677922929, 8662424.263613285, 8630731.711116105, 8599579.26799212, 8568927.811702702, 8538742.414467791, 8508994.582590593, 8479662.962356128, 8450732.626673633, 8422193.303894142, 8394037.042873118, 8366255.81984582, 8338839.505228552, 8311774.461942008, 8285042.885098852, 8258622.85184287, 8232488.951200942, 8206613.31311397, 8180966.847543757, 8155520.526287071, 8130246.577889615, 8105119.507942645, 8080116.895032233, 8055219.942753145, 8030413.789817831, 8005687.5946945865, 7981034.420459711, 7956450.951511057, 7931937.077693354, 7907495.383702843, 7883130.582327518, 7858848.928878463]\n"
     ]
    },
    {
     "name": "stderr",
     "output_type": "stream",
     "text": [
      "\r",
      " 93%|█████████▎| 93/100 [02:38<00:10,  1.48s/it]"
     ]
    },
    {
     "name": "stdout",
     "output_type": "stream",
     "text": [
      "[14428659.222999433, 12976263.509254532, 12150205.369988004, 11487554.301907709, 11030499.753017677, 10792925.485135127, 10694345.22396194, 10656270.827711038, 10640861.244591223, 10633920.266455343, 10630222.364395935, 10627741.810275564, 10625641.708421774, 10623543.007283304, 10621243.018771091, 10618601.15532016, 10615489.227290802, 10611766.976293406, 10607267.177520962, 10601783.8415404, 10595060.76660502, 10586779.320459414, 10576545.213085862, 10563874.749348648, 10548181.934942912, 10528769.057594853, 10504825.114990296, 10475438.712666523, 10439634.497545108, 10396443.899822587, 10345020.028792024, 10284800.019463554, 10215702.699368741, 10138324.326914797, 10054066.760496933, 9965118.28673719, 9874231.550693259, 9784316.538858281, 9697961.925280945, 9617051.0448454, 9542598.311931051, 9474818.603298008, 9413338.90820288, 9357435.088290734, 9306220.673729314, 9258774.395844651, 9214224.999999847, 9171811.175690277, 9130921.047594838, 9091107.947835488, 9052081.58444515, 9013680.492462875, 8975836.032122783, 8938537.673341513, 8901805.396352377, 8865670.62312071, 8830164.223772436, 8795309.312583825, 8761117.098379806, 8727584.980335822, 8694696.677922929, 8662424.263613285, 8630731.711116105, 8599579.26799212, 8568927.811702702, 8538742.414467791, 8508994.582590593, 8479662.962356128, 8450732.626673633, 8422193.303894142, 8394037.042873118, 8366255.81984582, 8338839.505228552, 8311774.461942008, 8285042.885098852, 8258622.85184287, 8232488.951200942, 8206613.31311397, 8180966.847543757, 8155520.526287071, 8130246.577889615, 8105119.507942645, 8080116.895032233, 8055219.942753145, 8030413.789817831, 8005687.5946945865, 7981034.420459711, 7956450.951511057, 7931937.077693354, 7907495.383702843, 7883130.582327518, 7858848.928878463, 7834657.650903819]\n"
     ]
    },
    {
     "name": "stderr",
     "output_type": "stream",
     "text": [
      "\r",
      " 94%|█████████▍| 94/100 [02:39<00:08,  1.47s/it]"
     ]
    },
    {
     "name": "stdout",
     "output_type": "stream",
     "text": [
      "[14428659.222999433, 12976263.509254532, 12150205.369988004, 11487554.301907709, 11030499.753017677, 10792925.485135127, 10694345.22396194, 10656270.827711038, 10640861.244591223, 10633920.266455343, 10630222.364395935, 10627741.810275564, 10625641.708421774, 10623543.007283304, 10621243.018771091, 10618601.15532016, 10615489.227290802, 10611766.976293406, 10607267.177520962, 10601783.8415404, 10595060.76660502, 10586779.320459414, 10576545.213085862, 10563874.749348648, 10548181.934942912, 10528769.057594853, 10504825.114990296, 10475438.712666523, 10439634.497545108, 10396443.899822587, 10345020.028792024, 10284800.019463554, 10215702.699368741, 10138324.326914797, 10054066.760496933, 9965118.28673719, 9874231.550693259, 9784316.538858281, 9697961.925280945, 9617051.0448454, 9542598.311931051, 9474818.603298008, 9413338.90820288, 9357435.088290734, 9306220.673729314, 9258774.395844651, 9214224.999999847, 9171811.175690277, 9130921.047594838, 9091107.947835488, 9052081.58444515, 9013680.492462875, 8975836.032122783, 8938537.673341513, 8901805.396352377, 8865670.62312071, 8830164.223772436, 8795309.312583825, 8761117.098379806, 8727584.980335822, 8694696.677922929, 8662424.263613285, 8630731.711116105, 8599579.26799212, 8568927.811702702, 8538742.414467791, 8508994.582590593, 8479662.962356128, 8450732.626673633, 8422193.303894142, 8394037.042873118, 8366255.81984582, 8338839.505228552, 8311774.461942008, 8285042.885098852, 8258622.85184287, 8232488.951200942, 8206613.31311397, 8180966.847543757, 8155520.526287071, 8130246.577889615, 8105119.507942645, 8080116.895032233, 8055219.942753145, 8030413.789817831, 8005687.5946945865, 7981034.420459711, 7956450.951511057, 7931937.077693354, 7907495.383702843, 7883130.582327518, 7858848.928878463, 7834657.650903819, 7810564.42205742]\n"
     ]
    },
    {
     "name": "stderr",
     "output_type": "stream",
     "text": [
      "\r",
      " 95%|█████████▌| 95/100 [02:41<00:07,  1.46s/it]"
     ]
    },
    {
     "name": "stdout",
     "output_type": "stream",
     "text": [
      "[14428659.222999433, 12976263.509254532, 12150205.369988004, 11487554.301907709, 11030499.753017677, 10792925.485135127, 10694345.22396194, 10656270.827711038, 10640861.244591223, 10633920.266455343, 10630222.364395935, 10627741.810275564, 10625641.708421774, 10623543.007283304, 10621243.018771091, 10618601.15532016, 10615489.227290802, 10611766.976293406, 10607267.177520962, 10601783.8415404, 10595060.76660502, 10586779.320459414, 10576545.213085862, 10563874.749348648, 10548181.934942912, 10528769.057594853, 10504825.114990296, 10475438.712666523, 10439634.497545108, 10396443.899822587, 10345020.028792024, 10284800.019463554, 10215702.699368741, 10138324.326914797, 10054066.760496933, 9965118.28673719, 9874231.550693259, 9784316.538858281, 9697961.925280945, 9617051.0448454, 9542598.311931051, 9474818.603298008, 9413338.90820288, 9357435.088290734, 9306220.673729314, 9258774.395844651, 9214224.999999847, 9171811.175690277, 9130921.047594838, 9091107.947835488, 9052081.58444515, 9013680.492462875, 8975836.032122783, 8938537.673341513, 8901805.396352377, 8865670.62312071, 8830164.223772436, 8795309.312583825, 8761117.098379806, 8727584.980335822, 8694696.677922929, 8662424.263613285, 8630731.711116105, 8599579.26799212, 8568927.811702702, 8538742.414467791, 8508994.582590593, 8479662.962356128, 8450732.626673633, 8422193.303894142, 8394037.042873118, 8366255.81984582, 8338839.505228552, 8311774.461942008, 8285042.885098852, 8258622.85184287, 8232488.951200942, 8206613.31311397, 8180966.847543757, 8155520.526287071, 8130246.577889615, 8105119.507942645, 8080116.895032233, 8055219.942753145, 8030413.789817831, 8005687.5946945865, 7981034.420459711, 7956450.951511057, 7931937.077693354, 7907495.383702843, 7883130.582327518, 7858848.928878463, 7834657.650903819, 7810564.42205742, 7786576.902246574]\n"
     ]
    },
    {
     "name": "stderr",
     "output_type": "stream",
     "text": [
      "\r",
      " 96%|█████████▌| 96/100 [02:42<00:05,  1.46s/it]"
     ]
    },
    {
     "name": "stdout",
     "output_type": "stream",
     "text": [
      "[14428659.222999433, 12976263.509254532, 12150205.369988004, 11487554.301907709, 11030499.753017677, 10792925.485135127, 10694345.22396194, 10656270.827711038, 10640861.244591223, 10633920.266455343, 10630222.364395935, 10627741.810275564, 10625641.708421774, 10623543.007283304, 10621243.018771091, 10618601.15532016, 10615489.227290802, 10611766.976293406, 10607267.177520962, 10601783.8415404, 10595060.76660502, 10586779.320459414, 10576545.213085862, 10563874.749348648, 10548181.934942912, 10528769.057594853, 10504825.114990296, 10475438.712666523, 10439634.497545108, 10396443.899822587, 10345020.028792024, 10284800.019463554, 10215702.699368741, 10138324.326914797, 10054066.760496933, 9965118.28673719, 9874231.550693259, 9784316.538858281, 9697961.925280945, 9617051.0448454, 9542598.311931051, 9474818.603298008, 9413338.90820288, 9357435.088290734, 9306220.673729314, 9258774.395844651, 9214224.999999847, 9171811.175690277, 9130921.047594838, 9091107.947835488, 9052081.58444515, 9013680.492462875, 8975836.032122783, 8938537.673341513, 8901805.396352377, 8865670.62312071, 8830164.223772436, 8795309.312583825, 8761117.098379806, 8727584.980335822, 8694696.677922929, 8662424.263613285, 8630731.711116105, 8599579.26799212, 8568927.811702702, 8538742.414467791, 8508994.582590593, 8479662.962356128, 8450732.626673633, 8422193.303894142, 8394037.042873118, 8366255.81984582, 8338839.505228552, 8311774.461942008, 8285042.885098852, 8258622.85184287, 8232488.951200942, 8206613.31311397, 8180966.847543757, 8155520.526287071, 8130246.577889615, 8105119.507942645, 8080116.895032233, 8055219.942753145, 8030413.789817831, 8005687.5946945865, 7981034.420459711, 7956450.951511057, 7931937.077693354, 7907495.383702843, 7883130.582327518, 7858848.928878463, 7834657.650903819, 7810564.42205742, 7786576.902246574, 7762702.358592794]\n"
     ]
    },
    {
     "name": "stderr",
     "output_type": "stream",
     "text": [
      "\r",
      " 97%|█████████▋| 97/100 [02:44<00:04,  1.46s/it]"
     ]
    },
    {
     "name": "stdout",
     "output_type": "stream",
     "text": [
      "[14428659.222999433, 12976263.509254532, 12150205.369988004, 11487554.301907709, 11030499.753017677, 10792925.485135127, 10694345.22396194, 10656270.827711038, 10640861.244591223, 10633920.266455343, 10630222.364395935, 10627741.810275564, 10625641.708421774, 10623543.007283304, 10621243.018771091, 10618601.15532016, 10615489.227290802, 10611766.976293406, 10607267.177520962, 10601783.8415404, 10595060.76660502, 10586779.320459414, 10576545.213085862, 10563874.749348648, 10548181.934942912, 10528769.057594853, 10504825.114990296, 10475438.712666523, 10439634.497545108, 10396443.899822587, 10345020.028792024, 10284800.019463554, 10215702.699368741, 10138324.326914797, 10054066.760496933, 9965118.28673719, 9874231.550693259, 9784316.538858281, 9697961.925280945, 9617051.0448454, 9542598.311931051, 9474818.603298008, 9413338.90820288, 9357435.088290734, 9306220.673729314, 9258774.395844651, 9214224.999999847, 9171811.175690277, 9130921.047594838, 9091107.947835488, 9052081.58444515, 9013680.492462875, 8975836.032122783, 8938537.673341513, 8901805.396352377, 8865670.62312071, 8830164.223772436, 8795309.312583825, 8761117.098379806, 8727584.980335822, 8694696.677922929, 8662424.263613285, 8630731.711116105, 8599579.26799212, 8568927.811702702, 8538742.414467791, 8508994.582590593, 8479662.962356128, 8450732.626673633, 8422193.303894142, 8394037.042873118, 8366255.81984582, 8338839.505228552, 8311774.461942008, 8285042.885098852, 8258622.85184287, 8232488.951200942, 8206613.31311397, 8180966.847543757, 8155520.526287071, 8130246.577889615, 8105119.507942645, 8080116.895032233, 8055219.942753145, 8030413.789817831, 8005687.5946945865, 7981034.420459711, 7956450.951511057, 7931937.077693354, 7907495.383702843, 7883130.582327518, 7858848.928878463, 7834657.650903819, 7810564.42205742, 7786576.902246574, 7762702.358592794, 7738947.374100208]\n"
     ]
    },
    {
     "name": "stderr",
     "output_type": "stream",
     "text": [
      "\r",
      " 98%|█████████▊| 98/100 [02:45<00:02,  1.46s/it]"
     ]
    },
    {
     "name": "stdout",
     "output_type": "stream",
     "text": [
      "[14428659.222999433, 12976263.509254532, 12150205.369988004, 11487554.301907709, 11030499.753017677, 10792925.485135127, 10694345.22396194, 10656270.827711038, 10640861.244591223, 10633920.266455343, 10630222.364395935, 10627741.810275564, 10625641.708421774, 10623543.007283304, 10621243.018771091, 10618601.15532016, 10615489.227290802, 10611766.976293406, 10607267.177520962, 10601783.8415404, 10595060.76660502, 10586779.320459414, 10576545.213085862, 10563874.749348648, 10548181.934942912, 10528769.057594853, 10504825.114990296, 10475438.712666523, 10439634.497545108, 10396443.899822587, 10345020.028792024, 10284800.019463554, 10215702.699368741, 10138324.326914797, 10054066.760496933, 9965118.28673719, 9874231.550693259, 9784316.538858281, 9697961.925280945, 9617051.0448454, 9542598.311931051, 9474818.603298008, 9413338.90820288, 9357435.088290734, 9306220.673729314, 9258774.395844651, 9214224.999999847, 9171811.175690277, 9130921.047594838, 9091107.947835488, 9052081.58444515, 9013680.492462875, 8975836.032122783, 8938537.673341513, 8901805.396352377, 8865670.62312071, 8830164.223772436, 8795309.312583825, 8761117.098379806, 8727584.980335822, 8694696.677922929, 8662424.263613285, 8630731.711116105, 8599579.26799212, 8568927.811702702, 8538742.414467791, 8508994.582590593, 8479662.962356128, 8450732.626673633, 8422193.303894142, 8394037.042873118, 8366255.81984582, 8338839.505228552, 8311774.461942008, 8285042.885098852, 8258622.85184287, 8232488.951200942, 8206613.31311397, 8180966.847543757, 8155520.526287071, 8130246.577889615, 8105119.507942645, 8080116.895032233, 8055219.942753145, 8030413.789817831, 8005687.5946945865, 7981034.420459711, 7956450.951511057, 7931937.077693354, 7907495.383702843, 7883130.582327518, 7858848.928878463, 7834657.650903819, 7810564.42205742, 7786576.902246574, 7762702.358592794, 7738947.374100208, 7715317.64399176]\n"
     ]
    },
    {
     "name": "stderr",
     "output_type": "stream",
     "text": [
      "\r",
      " 99%|█████████▉| 99/100 [02:47<00:01,  1.47s/it]"
     ]
    },
    {
     "name": "stdout",
     "output_type": "stream",
     "text": [
      "[14428659.222999433, 12976263.509254532, 12150205.369988004, 11487554.301907709, 11030499.753017677, 10792925.485135127, 10694345.22396194, 10656270.827711038, 10640861.244591223, 10633920.266455343, 10630222.364395935, 10627741.810275564, 10625641.708421774, 10623543.007283304, 10621243.018771091, 10618601.15532016, 10615489.227290802, 10611766.976293406, 10607267.177520962, 10601783.8415404, 10595060.76660502, 10586779.320459414, 10576545.213085862, 10563874.749348648, 10548181.934942912, 10528769.057594853, 10504825.114990296, 10475438.712666523, 10439634.497545108, 10396443.899822587, 10345020.028792024, 10284800.019463554, 10215702.699368741, 10138324.326914797, 10054066.760496933, 9965118.28673719, 9874231.550693259, 9784316.538858281, 9697961.925280945, 9617051.0448454, 9542598.311931051, 9474818.603298008, 9413338.90820288, 9357435.088290734, 9306220.673729314, 9258774.395844651, 9214224.999999847, 9171811.175690277, 9130921.047594838, 9091107.947835488, 9052081.58444515, 9013680.492462875, 8975836.032122783, 8938537.673341513, 8901805.396352377, 8865670.62312071, 8830164.223772436, 8795309.312583825, 8761117.098379806, 8727584.980335822, 8694696.677922929, 8662424.263613285, 8630731.711116105, 8599579.26799212, 8568927.811702702, 8538742.414467791, 8508994.582590593, 8479662.962356128, 8450732.626673633, 8422193.303894142, 8394037.042873118, 8366255.81984582, 8338839.505228552, 8311774.461942008, 8285042.885098852, 8258622.85184287, 8232488.951200942, 8206613.31311397, 8180966.847543757, 8155520.526287071, 8130246.577889615, 8105119.507942645, 8080116.895032233, 8055219.942753145, 8030413.789817831, 8005687.5946945865, 7981034.420459711, 7956450.951511057, 7931937.077693354, 7907495.383702843, 7883130.582327518, 7858848.928878463, 7834657.650903819, 7810564.42205742, 7786576.902246574, 7762702.358592794, 7738947.374100208, 7715317.64399176, 7691817.854015859]\n"
     ]
    },
    {
     "name": "stderr",
     "output_type": "stream",
     "text": [
      "100%|██████████| 100/100 [02:48<00:00,  1.69s/it]"
     ]
    },
    {
     "name": "stdout",
     "output_type": "stream",
     "text": [
      "[14428659.222999433, 12976263.509254532, 12150205.369988004, 11487554.301907709, 11030499.753017677, 10792925.485135127, 10694345.22396194, 10656270.827711038, 10640861.244591223, 10633920.266455343, 10630222.364395935, 10627741.810275564, 10625641.708421774, 10623543.007283304, 10621243.018771091, 10618601.15532016, 10615489.227290802, 10611766.976293406, 10607267.177520962, 10601783.8415404, 10595060.76660502, 10586779.320459414, 10576545.213085862, 10563874.749348648, 10548181.934942912, 10528769.057594853, 10504825.114990296, 10475438.712666523, 10439634.497545108, 10396443.899822587, 10345020.028792024, 10284800.019463554, 10215702.699368741, 10138324.326914797, 10054066.760496933, 9965118.28673719, 9874231.550693259, 9784316.538858281, 9697961.925280945, 9617051.0448454, 9542598.311931051, 9474818.603298008, 9413338.90820288, 9357435.088290734, 9306220.673729314, 9258774.395844651, 9214224.999999847, 9171811.175690277, 9130921.047594838, 9091107.947835488, 9052081.58444515, 9013680.492462875, 8975836.032122783, 8938537.673341513, 8901805.396352377, 8865670.62312071, 8830164.223772436, 8795309.312583825, 8761117.098379806, 8727584.980335822, 8694696.677922929, 8662424.263613285, 8630731.711116105, 8599579.26799212, 8568927.811702702, 8538742.414467791, 8508994.582590593, 8479662.962356128, 8450732.626673633, 8422193.303894142, 8394037.042873118, 8366255.81984582, 8338839.505228552, 8311774.461942008, 8285042.885098852, 8258622.85184287, 8232488.951200942, 8206613.31311397, 8180966.847543757, 8155520.526287071, 8130246.577889615, 8105119.507942645, 8080116.895032233, 8055219.942753145, 8030413.789817831, 8005687.5946945865, 7981034.420459711, 7956450.951511057, 7931937.077693354, 7907495.383702843, 7883130.582327518, 7858848.928878463, 7834657.650903819, 7810564.42205742, 7786576.902246574, 7762702.358592794, 7738947.374100208, 7715317.64399176, 7691817.854015859, 7668451.630979167]\n"
     ]
    },
    {
     "name": "stderr",
     "output_type": "stream",
     "text": [
      "\n"
     ]
    },
    {
     "data": {
      "text/plain": [
       "<__main__.SVD at 0x13e7662e0>"
      ]
     },
     "execution_count": 515,
     "metadata": {},
     "output_type": "execute_result"
    }
   ],
   "source": [
    "svd = SVD(learning_rate=0.0001, compute_loss=True)\n",
    "\n",
    "svd.fit(explicit_ratings)"
   ]
  },
  {
   "cell_type": "code",
   "execution_count": 516,
   "metadata": {},
   "outputs": [
    {
     "data": {
      "text/plain": [
       "['0    Toy Story (1995)',\n",
       " '3045    Toy Story 2 (1999)',\n",
       " '584    Aladdin (1992)',\n",
       " '33    Babe (1995)',\n",
       " \"2286    Bug's Life, A (1998)\",\n",
       " '1245    Groundhog Day (1993)',\n",
       " '360    Lion King, The (1994)',\n",
       " '2252    Pleasantville (1998)',\n",
       " '591    Beauty and the Beast (1991)',\n",
       " '2618    Tarzan (1999)']"
      ]
     },
     "execution_count": 516,
     "metadata": {},
     "output_type": "execute_result"
    }
   ],
   "source": [
    "get_similars(1, svd)"
   ]
  },
  {
   "cell_type": "markdown",
   "metadata": {},
   "source": [
    "### Задание 2. Не использую готовые решения, реализовать матричное разложение используя ALS на implicit данных"
   ]
  },
  {
   "cell_type": "code",
   "execution_count": 517,
   "metadata": {},
   "outputs": [],
   "source": [
    "import numpy as np\n",
    "from tqdm import tqdm\n",
    "# from recommender_systems.matrix_factorization_base import MatrixFactorizationBase\n",
    "\n",
    "\n",
    "class ALS(MatrixFactorizationBase):\n",
    "    \"\"\"\n",
    "    By http://stanford.edu/~rezab/classes/cme323/S15/notes/lec14.pdf\n",
    "    \"\"\"\n",
    "    def fit(self, user_items):\n",
    "        n_users, n_items = user_items.shape\n",
    "        self._init_matrices(n_items, n_users)\n",
    "\n",
    "        for _ in tqdm(range(self.iterations), position=0, leave=True):\n",
    "            self.user_factors = self._grad_user(user_items).T\n",
    "            self.item_factors = self._grad_item(user_items).T\n",
    "\n",
    "            if self._compute_loss:\n",
    "                self._loss_by_iterations.append(self._loss(user_items))\n",
    "\n",
    "        self._compute_factors_norms()\n",
    "\n",
    "    def _loss(self, user_items):\n",
    "        return (\n",
    "            np.power(user_items - self.user_factors @ self.item_factors.T, 2).sum() +\n",
    "            self.l2_regularization * (self._compute_l2_norm(self.user_factors) + self._compute_l2_norm(self.item_factors))\n",
    "        )\n",
    "\n",
    "    def _grad_user(self, user_items):\n",
    "        YtY = self.item_factors.T @ self.item_factors\n",
    "\n",
    "        return (\n",
    "            np.linalg.inv((YtY + self.l2_regularization * np.eye(self.factors))) @\n",
    "            (self.item_factors.T @ user_items.T)\n",
    "        )\n",
    "\n",
    "    def _grad_item(self, user_items):\n",
    "        UtU = self.user_factors.T @ self.user_factors\n",
    "\n",
    "        return (\n",
    "            np.linalg.inv(UtU + self.l2_regularization * np.eye(self.factors)) @\n",
    "            (self.user_factors.T @ user_items)\n",
    "        )\n"
   ]
  },
  {
   "cell_type": "code",
   "execution_count": 518,
   "metadata": {
    "scrolled": true
   },
   "outputs": [
    {
     "name": "stderr",
     "output_type": "stream",
     "text": [
      "100%|██████████| 100/100 [00:06<00:00, 15.57it/s]\n"
     ]
    }
   ],
   "source": [
    "als = ALS(128, 100, 5e-2)\n",
    "\n",
    "als.fit(user_item_t_csr.T)"
   ]
  },
  {
   "cell_type": "code",
   "execution_count": 519,
   "metadata": {},
   "outputs": [
    {
     "data": {
      "text/plain": [
       "['0    Toy Story (1995)',\n",
       " '3045    Toy Story 2 (1999)',\n",
       " '591    Beauty and the Beast (1991)',\n",
       " '1445    Best Men (1997)',\n",
       " '584    Aladdin (1992)',\n",
       " '360    Lion King, The (1994)',\n",
       " '2468    Beyond the Poseidon Adventure (1979)',\n",
       " '1938    Polish Wedding (1998)',\n",
       " '314    Santa Clause, The (1994)',\n",
       " '1526    Hercules (1997)']"
      ]
     },
     "execution_count": 519,
     "metadata": {},
     "output_type": "execute_result"
    }
   ],
   "source": [
    "get_similars(1, als)"
   ]
  },
  {
   "cell_type": "markdown",
   "metadata": {},
   "source": [
    "### Задание 3. Не использую готовые решения, реализовать матричное разложение BPR на implicit данных"
   ]
  },
  {
   "cell_type": "code",
   "execution_count": 744,
   "metadata": {},
   "outputs": [],
   "source": [
    "import numpy as np\n",
    "from tqdm import tqdm\n",
    "# from recommender_systems.matrix_factorization_base import MatrixFactorizationBase\n",
    "\n",
    "\n",
    "class BPR(MatrixFactorizationBase):\n",
    "    \"\"\"\n",
    "    By https://arxiv.org/pdf/1205.2618.pdf\n",
    "    \"\"\"\n",
    "    def __init__(self, factors: int = 128, iterations: int = 100, learning_rate: float = 5e-5,\n",
    "                 l2_regularization: float = 5e-2, compute_loss=False):\n",
    "        super().__init__(factors, iterations, l2_regularization, compute_loss)\n",
    "        self.learning_rate = learning_rate\n",
    "\n",
    "    def fit(self, user_items):\n",
    "        n_users, n_items = user_items.shape\n",
    "        self._init_matrices(n_items, n_users)\n",
    "\n",
    "        for i in tqdm(np.random.choice(range(n_users), self.iterations, True), position=0, leave=True):\n",
    "            triplet = self._get_random_comparison_triplet(user_items, i, n_items)\n",
    "            if not triplet:\n",
    "                continue\n",
    "            u_id, i_id, j_id = triplet\n",
    "\n",
    "            x_uij = self._compute_x_uij(u_id, i_id, j_id)\n",
    "\n",
    "            self.user_factors[u_id] -= self.learning_rate * self._grad_theta(\n",
    "                x_uij, self._grad_theta_u(i_id, j_id), self.user_factors[u_id]\n",
    "            )\n",
    "            self.item_factors[i_id] -= self.learning_rate * self._grad_theta(\n",
    "                x_uij, self._grad_theta_i(u_id), self.item_factors[i_id]\n",
    "            )\n",
    "            self.item_factors[j_id] -= self.learning_rate * self._grad_theta(\n",
    "                x_uij, self._grad_theta_j(u_id), self.item_factors[j_id]\n",
    "            )\n",
    "\n",
    "            if self._compute_loss:\n",
    "                self._loss_by_iterations.append(self._loss(triplet))\n",
    "            \n",
    "        self._compute_factors_norms()\n",
    "\n",
    "    def _get_random_comparison_triplet(self, user_items, random_u_id, n_items):\n",
    "        positive_user_items = set(user_items[random_u_id].nonzero()[1])\n",
    "        negative_user_items = set(range(n_items)) - positive_user_items\n",
    "        # (u_id, i_id, j_id) : i_id > j_id\n",
    "        if not positive_user_items:\n",
    "            return tuple()\n",
    "        return random_u_id, np.random.choice(list(positive_user_items)), np.random.choice(list(negative_user_items))\n",
    "\n",
    "    def _compute_x_uij(self, u_id, i_id, j_id):\n",
    "        return (\n",
    "            np.dot(self.user_factors[u_id], self.item_factors[i_id]) -\n",
    "            np.dot(self.user_factors[u_id], self.item_factors[j_id])\n",
    "        )\n",
    "\n",
    "    def _loss(self, triplet):\n",
    "        return - (\n",
    "            self._sigmoid(self._compute_x_uij(*triplet)) -\n",
    "            self.l2_regularization * (self._compute_l2_norm(self.user_factors) + self._compute_l2_norm(self.item_factors))\n",
    "        )\n",
    "\n",
    "    def _sigmoid(self, x):\n",
    "        return 1 / (1 + np.exp(-x))\n",
    "\n",
    "    def _grad_theta(self, x_uij, grad_x_uij_by_theta, theta):\n",
    "        return np.exp(-x_uij) / (1 + np.exp(-x_uij)) * grad_x_uij_by_theta + self.l2_regularization * theta\n",
    "\n",
    "    def _grad_theta_u(self, i_id, j_id):\n",
    "        return self.item_factors[i_id] - self.item_factors[j_id]\n",
    "\n",
    "    def _grad_theta_i(self, u_id):\n",
    "        return self.user_factors[u_id]\n",
    "\n",
    "    def _grad_theta_j(self, u_id):\n",
    "        return -self.user_factors[u_id]\n"
   ]
  },
  {
   "cell_type": "code",
   "execution_count": 761,
   "metadata": {
    "scrolled": true
   },
   "outputs": [
    {
     "name": "stderr",
     "output_type": "stream",
     "text": [
      "100%|██████████| 100000/100000 [03:18<00:00, 503.46it/s]\n"
     ]
    },
    {
     "data": {
      "text/plain": [
       "['0    Toy Story (1995)',\n",
       " '1872    Hamlet (1948)',\n",
       " '197    Umbrellas of Cherbourg, The (Parapluies de Che...',\n",
       " 'Series([], )',\n",
       " '1921    Prom Night IV: Deliver Us From Evil (1992)',\n",
       " '976    Grace of My Heart (1996)',\n",
       " '3165    Train Ride to Hollywood (1978)',\n",
       " 'Series([], )',\n",
       " '1747    Niagara, Niagara (1997)',\n",
       " '3108    Next Friday (1999)']"
      ]
     },
     "execution_count": 761,
     "metadata": {},
     "output_type": "execute_result"
    }
   ],
   "source": [
    "bpr = BPR(128, 100000, learning_rate=0.001, compute_loss=True)\n",
    "\n",
    "bpr.fit(user_item_t_csr.T)\n",
    "get_similars(1, bpr)"
   ]
  },
  {
   "cell_type": "code",
   "execution_count": 762,
   "metadata": {},
   "outputs": [
    {
     "data": {
      "text/plain": [
       "[<matplotlib.lines.Line2D at 0x13c4a2220>]"
      ]
     },
     "execution_count": 762,
     "metadata": {},
     "output_type": "execute_result"
    },
    {
     "data": {
      "image/png": "[encoded data removed]",
      "text/plain": [
       "<Figure size 432x288 with 1 Axes>"
      ]
     },
     "metadata": {
      "needs_background": "light"
     },
     "output_type": "display_data"
    }
   ],
   "source": [
    "plt.plot(bpr._loss_by_iterations)"
   ]
  },
  {
   "cell_type": "markdown",
   "metadata": {},
   "source": [
    "### Задание 4. Не использую готовые решения, реализовать матричное разложение WARP на implicit данных"
   ]
  },
  {
   "cell_type": "code",
   "execution_count": null,
   "metadata": {},
   "outputs": [],
   "source": []
  }
 ],
 "metadata": {
  "kernelspec": {
   "display_name": "Python 3",
   "language": "python",
   "name": "python3"
  },
  "language_info": {
   "codemirror_mode": {
    "name": "ipython",
    "version": 3
   },
   "file_extension": ".py",
   "mimetype": "text/x-python",
   "name": "python",
   "nbconvert_exporter": "python",
   "pygments_lexer": "ipython3",
   "version": "3.8.6"
  }
 },
 "nbformat": 4,
 "nbformat_minor": 2
}
